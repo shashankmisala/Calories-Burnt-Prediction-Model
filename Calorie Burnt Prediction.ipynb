{
 "cells": [
  {
   "cell_type": "markdown",
   "id": "19b6acea-59a3-4fe4-8974-819550331116",
   "metadata": {},
   "source": [
    "## Calorie Burnt Prediction with Machine Learning Regressing Models"
   ]
  },
  {
   "cell_type": "markdown",
   "id": "6f826146-9dab-4f83-8ce7-fa4a5d298d64",
   "metadata": {},
   "source": [
    "### Importing Libraries:"
   ]
  },
  {
   "cell_type": "code",
   "execution_count": 1,
   "id": "a22572c6-a70a-4440-8ad0-56788574e829",
   "metadata": {},
   "outputs": [],
   "source": [
    "import pandas as pd\n",
    "import matplotlib.pyplot as plt\n",
    "import seaborn as sns\n",
    "from sklearn.model_selection import train_test_split\n",
    "from sklearn.metrics import mean_squared_error, mean_absolute_error\n",
    "from xgboost import XGBRegressor\n",
    "from sklearn.ensemble import RandomForestRegressor, AdaBoostRegressor\n",
    "from sklearn.tree import DecisionTreeRegressor\n",
    "from catboost import CatBoostRegressor"
   ]
  },
  {
   "cell_type": "markdown",
   "id": "8ddcf63b-de59-441f-99a7-1ffcaa60fa6f",
   "metadata": {},
   "source": [
    "### Data Pre-Processing:"
   ]
  },
  {
   "cell_type": "code",
   "execution_count": 2,
   "id": "dd4481db-4b92-4530-8c65-22d4b81137af",
   "metadata": {},
   "outputs": [],
   "source": [
    "# Reading the CSV File\n",
    "calories = pd.read_csv('calories.csv')"
   ]
  },
  {
   "cell_type": "code",
   "execution_count": 3,
   "id": "49368f5b-1376-4012-81cd-84402dd03f78",
   "metadata": {},
   "outputs": [
    {
     "data": {
      "text/html": [
       "<div>\n",
       "<style scoped>\n",
       "    .dataframe tbody tr th:only-of-type {\n",
       "        vertical-align: middle;\n",
       "    }\n",
       "\n",
       "    .dataframe tbody tr th {\n",
       "        vertical-align: top;\n",
       "    }\n",
       "\n",
       "    .dataframe thead th {\n",
       "        text-align: right;\n",
       "    }\n",
       "</style>\n",
       "<table border=\"1\" class=\"dataframe\">\n",
       "  <thead>\n",
       "    <tr style=\"text-align: right;\">\n",
       "      <th></th>\n",
       "      <th>User_ID</th>\n",
       "      <th>Calories</th>\n",
       "    </tr>\n",
       "  </thead>\n",
       "  <tbody>\n",
       "    <tr>\n",
       "      <th>0</th>\n",
       "      <td>14733363</td>\n",
       "      <td>231.0</td>\n",
       "    </tr>\n",
       "    <tr>\n",
       "      <th>1</th>\n",
       "      <td>14861698</td>\n",
       "      <td>66.0</td>\n",
       "    </tr>\n",
       "    <tr>\n",
       "      <th>2</th>\n",
       "      <td>11179863</td>\n",
       "      <td>26.0</td>\n",
       "    </tr>\n",
       "    <tr>\n",
       "      <th>3</th>\n",
       "      <td>16180408</td>\n",
       "      <td>71.0</td>\n",
       "    </tr>\n",
       "    <tr>\n",
       "      <th>4</th>\n",
       "      <td>17771927</td>\n",
       "      <td>35.0</td>\n",
       "    </tr>\n",
       "  </tbody>\n",
       "</table>\n",
       "</div>"
      ],
      "text/plain": [
       "    User_ID  Calories\n",
       "0  14733363     231.0\n",
       "1  14861698      66.0\n",
       "2  11179863      26.0\n",
       "3  16180408      71.0\n",
       "4  17771927      35.0"
      ]
     },
     "execution_count": 3,
     "metadata": {},
     "output_type": "execute_result"
    }
   ],
   "source": [
    "# Printing the first 5 rows of the Dataset\n",
    "calories.head()"
   ]
  },
  {
   "cell_type": "code",
   "execution_count": 4,
   "id": "dec10b7d-a737-44f3-a1a6-dab84a8d7f3b",
   "metadata": {},
   "outputs": [
    {
     "data": {
      "text/plain": [
       "(15000, 2)"
      ]
     },
     "execution_count": 4,
     "metadata": {},
     "output_type": "execute_result"
    }
   ],
   "source": [
    "# (Rows,Columns)\n",
    "calories.shape"
   ]
  },
  {
   "cell_type": "code",
   "execution_count": 5,
   "id": "230f57dc-d776-41d3-b338-c11b4a293635",
   "metadata": {},
   "outputs": [],
   "source": [
    "# Reading the CSV File\n",
    "exercise = pd.read_csv('exercise.csv')"
   ]
  },
  {
   "cell_type": "code",
   "execution_count": 6,
   "id": "9742ca02-b5a0-4d73-806d-fb188c8cc428",
   "metadata": {},
   "outputs": [
    {
     "data": {
      "text/html": [
       "<div>\n",
       "<style scoped>\n",
       "    .dataframe tbody tr th:only-of-type {\n",
       "        vertical-align: middle;\n",
       "    }\n",
       "\n",
       "    .dataframe tbody tr th {\n",
       "        vertical-align: top;\n",
       "    }\n",
       "\n",
       "    .dataframe thead th {\n",
       "        text-align: right;\n",
       "    }\n",
       "</style>\n",
       "<table border=\"1\" class=\"dataframe\">\n",
       "  <thead>\n",
       "    <tr style=\"text-align: right;\">\n",
       "      <th></th>\n",
       "      <th>User_ID</th>\n",
       "      <th>Gender</th>\n",
       "      <th>Age</th>\n",
       "      <th>Height</th>\n",
       "      <th>Weight</th>\n",
       "      <th>Duration</th>\n",
       "      <th>Heart_Rate</th>\n",
       "      <th>Body_Temp</th>\n",
       "    </tr>\n",
       "  </thead>\n",
       "  <tbody>\n",
       "    <tr>\n",
       "      <th>0</th>\n",
       "      <td>14733363</td>\n",
       "      <td>male</td>\n",
       "      <td>68</td>\n",
       "      <td>190.0</td>\n",
       "      <td>94.0</td>\n",
       "      <td>29.0</td>\n",
       "      <td>105.0</td>\n",
       "      <td>40.8</td>\n",
       "    </tr>\n",
       "    <tr>\n",
       "      <th>1</th>\n",
       "      <td>14861698</td>\n",
       "      <td>female</td>\n",
       "      <td>20</td>\n",
       "      <td>166.0</td>\n",
       "      <td>60.0</td>\n",
       "      <td>14.0</td>\n",
       "      <td>94.0</td>\n",
       "      <td>40.3</td>\n",
       "    </tr>\n",
       "    <tr>\n",
       "      <th>2</th>\n",
       "      <td>11179863</td>\n",
       "      <td>male</td>\n",
       "      <td>69</td>\n",
       "      <td>179.0</td>\n",
       "      <td>79.0</td>\n",
       "      <td>5.0</td>\n",
       "      <td>88.0</td>\n",
       "      <td>38.7</td>\n",
       "    </tr>\n",
       "    <tr>\n",
       "      <th>3</th>\n",
       "      <td>16180408</td>\n",
       "      <td>female</td>\n",
       "      <td>34</td>\n",
       "      <td>179.0</td>\n",
       "      <td>71.0</td>\n",
       "      <td>13.0</td>\n",
       "      <td>100.0</td>\n",
       "      <td>40.5</td>\n",
       "    </tr>\n",
       "    <tr>\n",
       "      <th>4</th>\n",
       "      <td>17771927</td>\n",
       "      <td>female</td>\n",
       "      <td>27</td>\n",
       "      <td>154.0</td>\n",
       "      <td>58.0</td>\n",
       "      <td>10.0</td>\n",
       "      <td>81.0</td>\n",
       "      <td>39.8</td>\n",
       "    </tr>\n",
       "  </tbody>\n",
       "</table>\n",
       "</div>"
      ],
      "text/plain": [
       "    User_ID  Gender  Age  Height  Weight  Duration  Heart_Rate  Body_Temp\n",
       "0  14733363    male   68   190.0    94.0      29.0       105.0       40.8\n",
       "1  14861698  female   20   166.0    60.0      14.0        94.0       40.3\n",
       "2  11179863    male   69   179.0    79.0       5.0        88.0       38.7\n",
       "3  16180408  female   34   179.0    71.0      13.0       100.0       40.5\n",
       "4  17771927  female   27   154.0    58.0      10.0        81.0       39.8"
      ]
     },
     "execution_count": 6,
     "metadata": {},
     "output_type": "execute_result"
    }
   ],
   "source": [
    "# Printing the first 5 rows of the Dataset\n",
    "exercise.head()"
   ]
  },
  {
   "cell_type": "code",
   "execution_count": 7,
   "id": "c49b56b5-9c32-4ded-aaa4-3b51d9c54c46",
   "metadata": {},
   "outputs": [
    {
     "data": {
      "text/plain": [
       "(15000, 8)"
      ]
     },
     "execution_count": 7,
     "metadata": {},
     "output_type": "execute_result"
    }
   ],
   "source": [
    "# (Rows,Column)\n",
    "exercise.shape"
   ]
  },
  {
   "cell_type": "code",
   "execution_count": 8,
   "id": "2c64dd52-2265-4c23-a0b1-b6426d0ae884",
   "metadata": {},
   "outputs": [],
   "source": [
    "# Merging the Two Datasets on User ID \n",
    "df = pd.merge(calories,exercise, on='User_ID')"
   ]
  },
  {
   "cell_type": "code",
   "execution_count": 9,
   "id": "7ff174d0-2b19-43cf-b29d-2761e625fd11",
   "metadata": {},
   "outputs": [
    {
     "data": {
      "text/html": [
       "<div>\n",
       "<style scoped>\n",
       "    .dataframe tbody tr th:only-of-type {\n",
       "        vertical-align: middle;\n",
       "    }\n",
       "\n",
       "    .dataframe tbody tr th {\n",
       "        vertical-align: top;\n",
       "    }\n",
       "\n",
       "    .dataframe thead th {\n",
       "        text-align: right;\n",
       "    }\n",
       "</style>\n",
       "<table border=\"1\" class=\"dataframe\">\n",
       "  <thead>\n",
       "    <tr style=\"text-align: right;\">\n",
       "      <th></th>\n",
       "      <th>User_ID</th>\n",
       "      <th>Calories</th>\n",
       "      <th>Gender</th>\n",
       "      <th>Age</th>\n",
       "      <th>Height</th>\n",
       "      <th>Weight</th>\n",
       "      <th>Duration</th>\n",
       "      <th>Heart_Rate</th>\n",
       "      <th>Body_Temp</th>\n",
       "    </tr>\n",
       "  </thead>\n",
       "  <tbody>\n",
       "    <tr>\n",
       "      <th>0</th>\n",
       "      <td>14733363</td>\n",
       "      <td>231.0</td>\n",
       "      <td>male</td>\n",
       "      <td>68</td>\n",
       "      <td>190.0</td>\n",
       "      <td>94.0</td>\n",
       "      <td>29.0</td>\n",
       "      <td>105.0</td>\n",
       "      <td>40.8</td>\n",
       "    </tr>\n",
       "    <tr>\n",
       "      <th>1</th>\n",
       "      <td>14861698</td>\n",
       "      <td>66.0</td>\n",
       "      <td>female</td>\n",
       "      <td>20</td>\n",
       "      <td>166.0</td>\n",
       "      <td>60.0</td>\n",
       "      <td>14.0</td>\n",
       "      <td>94.0</td>\n",
       "      <td>40.3</td>\n",
       "    </tr>\n",
       "    <tr>\n",
       "      <th>2</th>\n",
       "      <td>11179863</td>\n",
       "      <td>26.0</td>\n",
       "      <td>male</td>\n",
       "      <td>69</td>\n",
       "      <td>179.0</td>\n",
       "      <td>79.0</td>\n",
       "      <td>5.0</td>\n",
       "      <td>88.0</td>\n",
       "      <td>38.7</td>\n",
       "    </tr>\n",
       "    <tr>\n",
       "      <th>3</th>\n",
       "      <td>16180408</td>\n",
       "      <td>71.0</td>\n",
       "      <td>female</td>\n",
       "      <td>34</td>\n",
       "      <td>179.0</td>\n",
       "      <td>71.0</td>\n",
       "      <td>13.0</td>\n",
       "      <td>100.0</td>\n",
       "      <td>40.5</td>\n",
       "    </tr>\n",
       "    <tr>\n",
       "      <th>4</th>\n",
       "      <td>17771927</td>\n",
       "      <td>35.0</td>\n",
       "      <td>female</td>\n",
       "      <td>27</td>\n",
       "      <td>154.0</td>\n",
       "      <td>58.0</td>\n",
       "      <td>10.0</td>\n",
       "      <td>81.0</td>\n",
       "      <td>39.8</td>\n",
       "    </tr>\n",
       "  </tbody>\n",
       "</table>\n",
       "</div>"
      ],
      "text/plain": [
       "    User_ID  Calories  Gender  Age  Height  Weight  Duration  Heart_Rate  \\\n",
       "0  14733363     231.0    male   68   190.0    94.0      29.0       105.0   \n",
       "1  14861698      66.0  female   20   166.0    60.0      14.0        94.0   \n",
       "2  11179863      26.0    male   69   179.0    79.0       5.0        88.0   \n",
       "3  16180408      71.0  female   34   179.0    71.0      13.0       100.0   \n",
       "4  17771927      35.0  female   27   154.0    58.0      10.0        81.0   \n",
       "\n",
       "   Body_Temp  \n",
       "0       40.8  \n",
       "1       40.3  \n",
       "2       38.7  \n",
       "3       40.5  \n",
       "4       39.8  "
      ]
     },
     "execution_count": 9,
     "metadata": {},
     "output_type": "execute_result"
    }
   ],
   "source": [
    "df.head()"
   ]
  },
  {
   "cell_type": "code",
   "execution_count": 10,
   "id": "a3bc02b9-d525-4ffb-93c4-f66a8cdc5eae",
   "metadata": {},
   "outputs": [
    {
     "data": {
      "text/plain": [
       "(15000, 9)"
      ]
     },
     "execution_count": 10,
     "metadata": {},
     "output_type": "execute_result"
    }
   ],
   "source": [
    "# (Rows,Column)\n",
    "df.shape"
   ]
  },
  {
   "cell_type": "code",
   "execution_count": 11,
   "id": "09ff14b0-fb5e-4a5d-b687-2e305ae5dae2",
   "metadata": {},
   "outputs": [
    {
     "name": "stdout",
     "output_type": "stream",
     "text": [
      "<class 'pandas.core.frame.DataFrame'>\n",
      "RangeIndex: 15000 entries, 0 to 14999\n",
      "Data columns (total 9 columns):\n",
      " #   Column      Non-Null Count  Dtype  \n",
      "---  ------      --------------  -----  \n",
      " 0   User_ID     15000 non-null  int64  \n",
      " 1   Calories    15000 non-null  float64\n",
      " 2   Gender      15000 non-null  object \n",
      " 3   Age         15000 non-null  int64  \n",
      " 4   Height      15000 non-null  float64\n",
      " 5   Weight      15000 non-null  float64\n",
      " 6   Duration    15000 non-null  float64\n",
      " 7   Heart_Rate  15000 non-null  float64\n",
      " 8   Body_Temp   15000 non-null  float64\n",
      "dtypes: float64(6), int64(2), object(1)\n",
      "memory usage: 1.0+ MB\n"
     ]
    }
   ],
   "source": [
    "# Information of the Datset\n",
    "df.info()"
   ]
  },
  {
   "cell_type": "code",
   "execution_count": 12,
   "id": "b1459d19-171d-4b83-800c-e1c6fa6dd577",
   "metadata": {},
   "outputs": [
    {
     "data": {
      "text/html": [
       "<div>\n",
       "<style scoped>\n",
       "    .dataframe tbody tr th:only-of-type {\n",
       "        vertical-align: middle;\n",
       "    }\n",
       "\n",
       "    .dataframe tbody tr th {\n",
       "        vertical-align: top;\n",
       "    }\n",
       "\n",
       "    .dataframe thead th {\n",
       "        text-align: right;\n",
       "    }\n",
       "</style>\n",
       "<table border=\"1\" class=\"dataframe\">\n",
       "  <thead>\n",
       "    <tr style=\"text-align: right;\">\n",
       "      <th></th>\n",
       "      <th>User_ID</th>\n",
       "      <th>Calories</th>\n",
       "      <th>Age</th>\n",
       "      <th>Height</th>\n",
       "      <th>Weight</th>\n",
       "      <th>Duration</th>\n",
       "      <th>Heart_Rate</th>\n",
       "      <th>Body_Temp</th>\n",
       "    </tr>\n",
       "  </thead>\n",
       "  <tbody>\n",
       "    <tr>\n",
       "      <th>count</th>\n",
       "      <td>1.500000e+04</td>\n",
       "      <td>15000.000000</td>\n",
       "      <td>15000.000000</td>\n",
       "      <td>15000.000000</td>\n",
       "      <td>15000.000000</td>\n",
       "      <td>15000.000000</td>\n",
       "      <td>15000.000000</td>\n",
       "      <td>15000.000000</td>\n",
       "    </tr>\n",
       "    <tr>\n",
       "      <th>mean</th>\n",
       "      <td>1.497736e+07</td>\n",
       "      <td>89.539533</td>\n",
       "      <td>42.789800</td>\n",
       "      <td>174.465133</td>\n",
       "      <td>74.966867</td>\n",
       "      <td>15.530600</td>\n",
       "      <td>95.518533</td>\n",
       "      <td>40.025453</td>\n",
       "    </tr>\n",
       "    <tr>\n",
       "      <th>std</th>\n",
       "      <td>2.872851e+06</td>\n",
       "      <td>62.456978</td>\n",
       "      <td>16.980264</td>\n",
       "      <td>14.258114</td>\n",
       "      <td>15.035657</td>\n",
       "      <td>8.319203</td>\n",
       "      <td>9.583328</td>\n",
       "      <td>0.779230</td>\n",
       "    </tr>\n",
       "    <tr>\n",
       "      <th>min</th>\n",
       "      <td>1.000116e+07</td>\n",
       "      <td>1.000000</td>\n",
       "      <td>20.000000</td>\n",
       "      <td>123.000000</td>\n",
       "      <td>36.000000</td>\n",
       "      <td>1.000000</td>\n",
       "      <td>67.000000</td>\n",
       "      <td>37.100000</td>\n",
       "    </tr>\n",
       "    <tr>\n",
       "      <th>25%</th>\n",
       "      <td>1.247419e+07</td>\n",
       "      <td>35.000000</td>\n",
       "      <td>28.000000</td>\n",
       "      <td>164.000000</td>\n",
       "      <td>63.000000</td>\n",
       "      <td>8.000000</td>\n",
       "      <td>88.000000</td>\n",
       "      <td>39.600000</td>\n",
       "    </tr>\n",
       "    <tr>\n",
       "      <th>50%</th>\n",
       "      <td>1.499728e+07</td>\n",
       "      <td>79.000000</td>\n",
       "      <td>39.000000</td>\n",
       "      <td>175.000000</td>\n",
       "      <td>74.000000</td>\n",
       "      <td>16.000000</td>\n",
       "      <td>96.000000</td>\n",
       "      <td>40.200000</td>\n",
       "    </tr>\n",
       "    <tr>\n",
       "      <th>75%</th>\n",
       "      <td>1.744928e+07</td>\n",
       "      <td>138.000000</td>\n",
       "      <td>56.000000</td>\n",
       "      <td>185.000000</td>\n",
       "      <td>87.000000</td>\n",
       "      <td>23.000000</td>\n",
       "      <td>103.000000</td>\n",
       "      <td>40.600000</td>\n",
       "    </tr>\n",
       "    <tr>\n",
       "      <th>max</th>\n",
       "      <td>1.999965e+07</td>\n",
       "      <td>314.000000</td>\n",
       "      <td>79.000000</td>\n",
       "      <td>222.000000</td>\n",
       "      <td>132.000000</td>\n",
       "      <td>30.000000</td>\n",
       "      <td>128.000000</td>\n",
       "      <td>41.500000</td>\n",
       "    </tr>\n",
       "  </tbody>\n",
       "</table>\n",
       "</div>"
      ],
      "text/plain": [
       "            User_ID      Calories           Age        Height        Weight  \\\n",
       "count  1.500000e+04  15000.000000  15000.000000  15000.000000  15000.000000   \n",
       "mean   1.497736e+07     89.539533     42.789800    174.465133     74.966867   \n",
       "std    2.872851e+06     62.456978     16.980264     14.258114     15.035657   \n",
       "min    1.000116e+07      1.000000     20.000000    123.000000     36.000000   \n",
       "25%    1.247419e+07     35.000000     28.000000    164.000000     63.000000   \n",
       "50%    1.499728e+07     79.000000     39.000000    175.000000     74.000000   \n",
       "75%    1.744928e+07    138.000000     56.000000    185.000000     87.000000   \n",
       "max    1.999965e+07    314.000000     79.000000    222.000000    132.000000   \n",
       "\n",
       "           Duration    Heart_Rate     Body_Temp  \n",
       "count  15000.000000  15000.000000  15000.000000  \n",
       "mean      15.530600     95.518533     40.025453  \n",
       "std        8.319203      9.583328      0.779230  \n",
       "min        1.000000     67.000000     37.100000  \n",
       "25%        8.000000     88.000000     39.600000  \n",
       "50%       16.000000     96.000000     40.200000  \n",
       "75%       23.000000    103.000000     40.600000  \n",
       "max       30.000000    128.000000     41.500000  "
      ]
     },
     "execution_count": 12,
     "metadata": {},
     "output_type": "execute_result"
    }
   ],
   "source": [
    "# Statistical Data about the Dataset\n",
    "df.describe()"
   ]
  },
  {
   "cell_type": "code",
   "execution_count": 13,
   "id": "df855838-d826-42f4-b56f-37f9a5c9bb30",
   "metadata": {},
   "outputs": [
    {
     "data": {
      "text/plain": [
       "User_ID       0\n",
       "Calories      0\n",
       "Gender        0\n",
       "Age           0\n",
       "Height        0\n",
       "Weight        0\n",
       "Duration      0\n",
       "Heart_Rate    0\n",
       "Body_Temp     0\n",
       "dtype: int64"
      ]
     },
     "execution_count": 13,
     "metadata": {},
     "output_type": "execute_result"
    }
   ],
   "source": [
    "# Checking for Null/Values\n",
    "df.isnull().sum()"
   ]
  },
  {
   "cell_type": "code",
   "execution_count": 14,
   "id": "07e04666-beb1-4880-808d-3c7e20c83e9e",
   "metadata": {},
   "outputs": [
    {
     "data": {
      "text/plain": [
       "0"
      ]
     },
     "execution_count": 14,
     "metadata": {},
     "output_type": "execute_result"
    }
   ],
   "source": [
    "# Checking for Duplicated Rows\n",
    "df.duplicated().sum()"
   ]
  },
  {
   "cell_type": "code",
   "execution_count": 15,
   "id": "98d937db-a8e4-4a30-a3af-35a02520e4df",
   "metadata": {},
   "outputs": [
    {
     "data": {
      "text/plain": [
       "Index(['User_ID', 'Calories', 'Gender', 'Age', 'Height', 'Weight', 'Duration',\n",
       "       'Heart_Rate', 'Body_Temp'],\n",
       "      dtype='object')"
      ]
     },
     "execution_count": 15,
     "metadata": {},
     "output_type": "execute_result"
    }
   ],
   "source": [
    "# Column Names of the Dataset\n",
    "df.columns"
   ]
  },
  {
   "cell_type": "markdown",
   "id": "5ff618cc-4101-45fb-aeb0-bda5bfe6df93",
   "metadata": {},
   "source": [
    "### Data Visualization:"
   ]
  },
  {
   "cell_type": "code",
   "execution_count": 16,
   "id": "6cd5dbd0-b047-4501-b57f-6da78bb2cf34",
   "metadata": {},
   "outputs": [],
   "source": [
    "sns.set()"
   ]
  },
  {
   "cell_type": "code",
   "execution_count": 17,
   "id": "fa11506c-4d4a-4551-86d1-11b48f712d11",
   "metadata": {},
   "outputs": [
    {
     "name": "stderr",
     "output_type": "stream",
     "text": [
      "/opt/anaconda3/lib/python3.11/site-packages/seaborn/_oldcore.py:1119: FutureWarning: use_inf_as_na option is deprecated and will be removed in a future version. Convert inf values to NaN before operating instead.\n",
      "  with pd.option_context('mode.use_inf_as_na', True):\n"
     ]
    },
    {
     "data": {
      "text/plain": [
       "<seaborn.axisgrid.FacetGrid at 0x13bc576d0>"
      ]
     },
     "execution_count": 17,
     "metadata": {},
     "output_type": "execute_result"
    },
    {
     "data": {
      "image/png": "[encoded data removed]",
      "text/plain": [
       "<Figure size 500x500 with 1 Axes>"
      ]
     },
     "metadata": {},
     "output_type": "display_data"
    }
   ],
   "source": [
    "# Distribution Plot of the Age column\n",
    "sns.displot(df['Age'])"
   ]
  },
  {
   "cell_type": "code",
   "execution_count": 18,
   "id": "f3dcc378-b3c3-4023-af20-b1cb979df53f",
   "metadata": {},
   "outputs": [
    {
     "name": "stderr",
     "output_type": "stream",
     "text": [
      "/opt/anaconda3/lib/python3.11/site-packages/seaborn/_oldcore.py:1119: FutureWarning: use_inf_as_na option is deprecated and will be removed in a future version. Convert inf values to NaN before operating instead.\n",
      "  with pd.option_context('mode.use_inf_as_na', True):\n"
     ]
    },
    {
     "data": {
      "text/plain": [
       "<Axes: xlabel='Height', ylabel='Count'>"
      ]
     },
     "execution_count": 18,
     "metadata": {},
     "output_type": "execute_result"
    },
    {
     "data": {
      "image/png": "[encoded data removed]",
      "text/plain": [
       "<Figure size 640x480 with 1 Axes>"
      ]
     },
     "metadata": {},
     "output_type": "display_data"
    }
   ],
   "source": [
    "# Histplot of Height column\n",
    "sns.histplot(df['Height'])"
   ]
  },
  {
   "cell_type": "code",
   "execution_count": 19,
   "id": "81ef8e26-7b1d-4d7e-b6fd-f65c63873e21",
   "metadata": {},
   "outputs": [
    {
     "name": "stderr",
     "output_type": "stream",
     "text": [
      "/opt/anaconda3/lib/python3.11/site-packages/seaborn/_oldcore.py:1119: FutureWarning: use_inf_as_na option is deprecated and will be removed in a future version. Convert inf values to NaN before operating instead.\n",
      "  with pd.option_context('mode.use_inf_as_na', True):\n"
     ]
    },
    {
     "data": {
      "text/plain": [
       "<seaborn.axisgrid.FacetGrid at 0x13ba7cbd0>"
      ]
     },
     "execution_count": 19,
     "metadata": {},
     "output_type": "execute_result"
    },
    {
     "data": {
      "image/png": "[encoded data removed]",
      "text/plain": [
       "<Figure size 500x500 with 1 Axes>"
      ]
     },
     "metadata": {},
     "output_type": "display_data"
    }
   ],
   "source": [
    "# Distribution plot of Weight Column\n",
    "sns.displot(df['Weight'])"
   ]
  },
  {
   "cell_type": "code",
   "execution_count": 20,
   "id": "c86d6c6b-4641-4468-b7a4-96a7439f5cbf",
   "metadata": {},
   "outputs": [],
   "source": [
    "# Changing the String Values to Numeric Values\n",
    "df['Gender'] = df['Gender'].map({'male':0,'female':1})"
   ]
  },
  {
   "cell_type": "code",
   "execution_count": 21,
   "id": "3922592b-b839-4733-9452-8b95f94e45a0",
   "metadata": {},
   "outputs": [],
   "source": [
    "# Correlation of the Parameters of the Dataset\n",
    "correlation = df.corr()"
   ]
  },
  {
   "cell_type": "code",
   "execution_count": 22,
   "id": "ead78987-ed1c-4dc6-a469-5aa0796ad92f",
   "metadata": {},
   "outputs": [
    {
     "data": {
      "text/html": [
       "<div>\n",
       "<style scoped>\n",
       "    .dataframe tbody tr th:only-of-type {\n",
       "        vertical-align: middle;\n",
       "    }\n",
       "\n",
       "    .dataframe tbody tr th {\n",
       "        vertical-align: top;\n",
       "    }\n",
       "\n",
       "    .dataframe thead th {\n",
       "        text-align: right;\n",
       "    }\n",
       "</style>\n",
       "<table border=\"1\" class=\"dataframe\">\n",
       "  <thead>\n",
       "    <tr style=\"text-align: right;\">\n",
       "      <th></th>\n",
       "      <th>User_ID</th>\n",
       "      <th>Calories</th>\n",
       "      <th>Gender</th>\n",
       "      <th>Age</th>\n",
       "      <th>Height</th>\n",
       "      <th>Weight</th>\n",
       "      <th>Duration</th>\n",
       "      <th>Heart_Rate</th>\n",
       "      <th>Body_Temp</th>\n",
       "    </tr>\n",
       "  </thead>\n",
       "  <tbody>\n",
       "    <tr>\n",
       "      <th>User_ID</th>\n",
       "      <td>1.000000</td>\n",
       "      <td>-0.001661</td>\n",
       "      <td>0.000687</td>\n",
       "      <td>-0.001827</td>\n",
       "      <td>-0.013520</td>\n",
       "      <td>-0.011603</td>\n",
       "      <td>-0.002751</td>\n",
       "      <td>-0.000457</td>\n",
       "      <td>0.000923</td>\n",
       "    </tr>\n",
       "    <tr>\n",
       "      <th>Calories</th>\n",
       "      <td>-0.001661</td>\n",
       "      <td>1.000000</td>\n",
       "      <td>-0.022357</td>\n",
       "      <td>0.154395</td>\n",
       "      <td>0.017537</td>\n",
       "      <td>0.035481</td>\n",
       "      <td>0.955421</td>\n",
       "      <td>0.897882</td>\n",
       "      <td>0.824558</td>\n",
       "    </tr>\n",
       "    <tr>\n",
       "      <th>Gender</th>\n",
       "      <td>0.000687</td>\n",
       "      <td>-0.022357</td>\n",
       "      <td>1.000000</td>\n",
       "      <td>-0.003222</td>\n",
       "      <td>-0.710534</td>\n",
       "      <td>-0.783186</td>\n",
       "      <td>-0.003440</td>\n",
       "      <td>-0.011555</td>\n",
       "      <td>-0.007264</td>\n",
       "    </tr>\n",
       "    <tr>\n",
       "      <th>Age</th>\n",
       "      <td>-0.001827</td>\n",
       "      <td>0.154395</td>\n",
       "      <td>-0.003222</td>\n",
       "      <td>1.000000</td>\n",
       "      <td>0.009554</td>\n",
       "      <td>0.090094</td>\n",
       "      <td>0.013247</td>\n",
       "      <td>0.010482</td>\n",
       "      <td>0.013175</td>\n",
       "    </tr>\n",
       "    <tr>\n",
       "      <th>Height</th>\n",
       "      <td>-0.013520</td>\n",
       "      <td>0.017537</td>\n",
       "      <td>-0.710534</td>\n",
       "      <td>0.009554</td>\n",
       "      <td>1.000000</td>\n",
       "      <td>0.958451</td>\n",
       "      <td>-0.004625</td>\n",
       "      <td>0.000528</td>\n",
       "      <td>0.001200</td>\n",
       "    </tr>\n",
       "    <tr>\n",
       "      <th>Weight</th>\n",
       "      <td>-0.011603</td>\n",
       "      <td>0.035481</td>\n",
       "      <td>-0.783186</td>\n",
       "      <td>0.090094</td>\n",
       "      <td>0.958451</td>\n",
       "      <td>1.000000</td>\n",
       "      <td>-0.001884</td>\n",
       "      <td>0.004311</td>\n",
       "      <td>0.004095</td>\n",
       "    </tr>\n",
       "    <tr>\n",
       "      <th>Duration</th>\n",
       "      <td>-0.002751</td>\n",
       "      <td>0.955421</td>\n",
       "      <td>-0.003440</td>\n",
       "      <td>0.013247</td>\n",
       "      <td>-0.004625</td>\n",
       "      <td>-0.001884</td>\n",
       "      <td>1.000000</td>\n",
       "      <td>0.852869</td>\n",
       "      <td>0.903167</td>\n",
       "    </tr>\n",
       "    <tr>\n",
       "      <th>Heart_Rate</th>\n",
       "      <td>-0.000457</td>\n",
       "      <td>0.897882</td>\n",
       "      <td>-0.011555</td>\n",
       "      <td>0.010482</td>\n",
       "      <td>0.000528</td>\n",
       "      <td>0.004311</td>\n",
       "      <td>0.852869</td>\n",
       "      <td>1.000000</td>\n",
       "      <td>0.771529</td>\n",
       "    </tr>\n",
       "    <tr>\n",
       "      <th>Body_Temp</th>\n",
       "      <td>0.000923</td>\n",
       "      <td>0.824558</td>\n",
       "      <td>-0.007264</td>\n",
       "      <td>0.013175</td>\n",
       "      <td>0.001200</td>\n",
       "      <td>0.004095</td>\n",
       "      <td>0.903167</td>\n",
       "      <td>0.771529</td>\n",
       "      <td>1.000000</td>\n",
       "    </tr>\n",
       "  </tbody>\n",
       "</table>\n",
       "</div>"
      ],
      "text/plain": [
       "             User_ID  Calories    Gender       Age    Height    Weight  \\\n",
       "User_ID     1.000000 -0.001661  0.000687 -0.001827 -0.013520 -0.011603   \n",
       "Calories   -0.001661  1.000000 -0.022357  0.154395  0.017537  0.035481   \n",
       "Gender      0.000687 -0.022357  1.000000 -0.003222 -0.710534 -0.783186   \n",
       "Age        -0.001827  0.154395 -0.003222  1.000000  0.009554  0.090094   \n",
       "Height     -0.013520  0.017537 -0.710534  0.009554  1.000000  0.958451   \n",
       "Weight     -0.011603  0.035481 -0.783186  0.090094  0.958451  1.000000   \n",
       "Duration   -0.002751  0.955421 -0.003440  0.013247 -0.004625 -0.001884   \n",
       "Heart_Rate -0.000457  0.897882 -0.011555  0.010482  0.000528  0.004311   \n",
       "Body_Temp   0.000923  0.824558 -0.007264  0.013175  0.001200  0.004095   \n",
       "\n",
       "            Duration  Heart_Rate  Body_Temp  \n",
       "User_ID    -0.002751   -0.000457   0.000923  \n",
       "Calories    0.955421    0.897882   0.824558  \n",
       "Gender     -0.003440   -0.011555  -0.007264  \n",
       "Age         0.013247    0.010482   0.013175  \n",
       "Height     -0.004625    0.000528   0.001200  \n",
       "Weight     -0.001884    0.004311   0.004095  \n",
       "Duration    1.000000    0.852869   0.903167  \n",
       "Heart_Rate  0.852869    1.000000   0.771529  \n",
       "Body_Temp   0.903167    0.771529   1.000000  "
      ]
     },
     "execution_count": 22,
     "metadata": {},
     "output_type": "execute_result"
    }
   ],
   "source": [
    "correlation"
   ]
  },
  {
   "cell_type": "code",
   "execution_count": 23,
   "id": "eb514984-512e-44b6-abd4-152639315667",
   "metadata": {},
   "outputs": [
    {
     "data": {
      "text/plain": [
       "Text(0.5, 1.0, 'Correlation Heatmap')"
      ]
     },
     "execution_count": 23,
     "metadata": {},
     "output_type": "execute_result"
    },
    {
     "data": {
      "image/png": "[encoded data removed]",
      "text/plain": [
       "<Figure size 1000x700 with 2 Axes>"
      ]
     },
     "metadata": {},
     "output_type": "display_data"
    }
   ],
   "source": [
    "# Heatmap of the Correlation Matrix\n",
    "plt.figure(figsize=(10,7))\n",
    "sns.heatmap(correlation, annot=True, cmap='Blues')\n",
    "plt.title('Correlation Heatmap')"
   ]
  },
  {
   "cell_type": "markdown",
   "id": "b1b62957-9f09-4a7c-8c4f-b7c904830604",
   "metadata": {},
   "source": [
    "### Model Building:"
   ]
  },
  {
   "cell_type": "code",
   "execution_count": 24,
   "id": "5c0cf4db-36e2-42b4-b1e9-12a0b15db7fb",
   "metadata": {},
   "outputs": [],
   "source": [
    "# Dropping the columns and adding them to Created Variables\n",
    "columns = ['User_ID', 'Calories']\n",
    "x = df.drop(columns,axis=1)\n",
    "y = df['Calories']"
   ]
  },
  {
   "cell_type": "code",
   "execution_count": 25,
   "id": "4d729fa4-6891-40de-9f64-96cd186fb5fc",
   "metadata": {},
   "outputs": [
    {
     "data": {
      "text/html": [
       "<div>\n",
       "<style scoped>\n",
       "    .dataframe tbody tr th:only-of-type {\n",
       "        vertical-align: middle;\n",
       "    }\n",
       "\n",
       "    .dataframe tbody tr th {\n",
       "        vertical-align: top;\n",
       "    }\n",
       "\n",
       "    .dataframe thead th {\n",
       "        text-align: right;\n",
       "    }\n",
       "</style>\n",
       "<table border=\"1\" class=\"dataframe\">\n",
       "  <thead>\n",
       "    <tr style=\"text-align: right;\">\n",
       "      <th></th>\n",
       "      <th>Gender</th>\n",
       "      <th>Age</th>\n",
       "      <th>Height</th>\n",
       "      <th>Weight</th>\n",
       "      <th>Duration</th>\n",
       "      <th>Heart_Rate</th>\n",
       "      <th>Body_Temp</th>\n",
       "    </tr>\n",
       "  </thead>\n",
       "  <tbody>\n",
       "    <tr>\n",
       "      <th>0</th>\n",
       "      <td>0</td>\n",
       "      <td>68</td>\n",
       "      <td>190.0</td>\n",
       "      <td>94.0</td>\n",
       "      <td>29.0</td>\n",
       "      <td>105.0</td>\n",
       "      <td>40.8</td>\n",
       "    </tr>\n",
       "    <tr>\n",
       "      <th>1</th>\n",
       "      <td>1</td>\n",
       "      <td>20</td>\n",
       "      <td>166.0</td>\n",
       "      <td>60.0</td>\n",
       "      <td>14.0</td>\n",
       "      <td>94.0</td>\n",
       "      <td>40.3</td>\n",
       "    </tr>\n",
       "    <tr>\n",
       "      <th>2</th>\n",
       "      <td>0</td>\n",
       "      <td>69</td>\n",
       "      <td>179.0</td>\n",
       "      <td>79.0</td>\n",
       "      <td>5.0</td>\n",
       "      <td>88.0</td>\n",
       "      <td>38.7</td>\n",
       "    </tr>\n",
       "    <tr>\n",
       "      <th>3</th>\n",
       "      <td>1</td>\n",
       "      <td>34</td>\n",
       "      <td>179.0</td>\n",
       "      <td>71.0</td>\n",
       "      <td>13.0</td>\n",
       "      <td>100.0</td>\n",
       "      <td>40.5</td>\n",
       "    </tr>\n",
       "    <tr>\n",
       "      <th>4</th>\n",
       "      <td>1</td>\n",
       "      <td>27</td>\n",
       "      <td>154.0</td>\n",
       "      <td>58.0</td>\n",
       "      <td>10.0</td>\n",
       "      <td>81.0</td>\n",
       "      <td>39.8</td>\n",
       "    </tr>\n",
       "    <tr>\n",
       "      <th>...</th>\n",
       "      <td>...</td>\n",
       "      <td>...</td>\n",
       "      <td>...</td>\n",
       "      <td>...</td>\n",
       "      <td>...</td>\n",
       "      <td>...</td>\n",
       "      <td>...</td>\n",
       "    </tr>\n",
       "    <tr>\n",
       "      <th>14995</th>\n",
       "      <td>1</td>\n",
       "      <td>20</td>\n",
       "      <td>193.0</td>\n",
       "      <td>86.0</td>\n",
       "      <td>11.0</td>\n",
       "      <td>92.0</td>\n",
       "      <td>40.4</td>\n",
       "    </tr>\n",
       "    <tr>\n",
       "      <th>14996</th>\n",
       "      <td>1</td>\n",
       "      <td>27</td>\n",
       "      <td>165.0</td>\n",
       "      <td>65.0</td>\n",
       "      <td>6.0</td>\n",
       "      <td>85.0</td>\n",
       "      <td>39.2</td>\n",
       "    </tr>\n",
       "    <tr>\n",
       "      <th>14997</th>\n",
       "      <td>1</td>\n",
       "      <td>43</td>\n",
       "      <td>159.0</td>\n",
       "      <td>58.0</td>\n",
       "      <td>16.0</td>\n",
       "      <td>90.0</td>\n",
       "      <td>40.1</td>\n",
       "    </tr>\n",
       "    <tr>\n",
       "      <th>14998</th>\n",
       "      <td>0</td>\n",
       "      <td>78</td>\n",
       "      <td>193.0</td>\n",
       "      <td>97.0</td>\n",
       "      <td>2.0</td>\n",
       "      <td>84.0</td>\n",
       "      <td>38.3</td>\n",
       "    </tr>\n",
       "    <tr>\n",
       "      <th>14999</th>\n",
       "      <td>0</td>\n",
       "      <td>63</td>\n",
       "      <td>173.0</td>\n",
       "      <td>79.0</td>\n",
       "      <td>18.0</td>\n",
       "      <td>92.0</td>\n",
       "      <td>40.5</td>\n",
       "    </tr>\n",
       "  </tbody>\n",
       "</table>\n",
       "<p>15000 rows × 7 columns</p>\n",
       "</div>"
      ],
      "text/plain": [
       "       Gender  Age  Height  Weight  Duration  Heart_Rate  Body_Temp\n",
       "0           0   68   190.0    94.0      29.0       105.0       40.8\n",
       "1           1   20   166.0    60.0      14.0        94.0       40.3\n",
       "2           0   69   179.0    79.0       5.0        88.0       38.7\n",
       "3           1   34   179.0    71.0      13.0       100.0       40.5\n",
       "4           1   27   154.0    58.0      10.0        81.0       39.8\n",
       "...       ...  ...     ...     ...       ...         ...        ...\n",
       "14995       1   20   193.0    86.0      11.0        92.0       40.4\n",
       "14996       1   27   165.0    65.0       6.0        85.0       39.2\n",
       "14997       1   43   159.0    58.0      16.0        90.0       40.1\n",
       "14998       0   78   193.0    97.0       2.0        84.0       38.3\n",
       "14999       0   63   173.0    79.0      18.0        92.0       40.5\n",
       "\n",
       "[15000 rows x 7 columns]"
      ]
     },
     "execution_count": 25,
     "metadata": {},
     "output_type": "execute_result"
    }
   ],
   "source": [
    "x"
   ]
  },
  {
   "cell_type": "code",
   "execution_count": 26,
   "id": "067cc57d-1acd-4b75-959b-088eb94042bb",
   "metadata": {},
   "outputs": [
    {
     "data": {
      "text/plain": [
       "0        231.0\n",
       "1         66.0\n",
       "2         26.0\n",
       "3         71.0\n",
       "4         35.0\n",
       "         ...  \n",
       "14995     45.0\n",
       "14996     23.0\n",
       "14997     75.0\n",
       "14998     11.0\n",
       "14999     98.0\n",
       "Name: Calories, Length: 15000, dtype: float64"
      ]
     },
     "execution_count": 26,
     "metadata": {},
     "output_type": "execute_result"
    }
   ],
   "source": [
    "y"
   ]
  },
  {
   "cell_type": "code",
   "execution_count": 27,
   "id": "700a0569-7b85-4ae2-a2a7-d445334fc35c",
   "metadata": {},
   "outputs": [],
   "source": [
    "# Splitting the Datset into training and testing datasets\n",
    "x_train,x_test,y_train,y_test = train_test_split(x,y,test_size=0.09,random_state=42)"
   ]
  },
  {
   "cell_type": "code",
   "execution_count": 28,
   "id": "394089f4-93b3-49f4-805a-a7f7d846b5bd",
   "metadata": {},
   "outputs": [
    {
     "name": "stdout",
     "output_type": "stream",
     "text": [
      "(15000, 7) (13650, 7) (1350, 7)\n"
     ]
    }
   ],
   "source": [
    "# Printing the Shape of the Datset\n",
    "print(x.shape,x_train.shape,x_test.shape)"
   ]
  },
  {
   "cell_type": "markdown",
   "id": "4435e82c-12ce-4874-bb5f-3c28c75a57b2",
   "metadata": {},
   "source": [
    "#### 1. XGB REgressor Model:"
   ]
  },
  {
   "cell_type": "code",
   "execution_count": 29,
   "id": "4f905e67-bb1b-4049-81dc-6aaefcbf9bee",
   "metadata": {},
   "outputs": [],
   "source": [
    "xgb = XGBRegressor()"
   ]
  },
  {
   "cell_type": "code",
   "execution_count": 30,
   "id": "df2935da-ed03-49e1-919d-f0b444693387",
   "metadata": {},
   "outputs": [
    {
     "data": {
      "text/html": [
       "<style>#sk-container-id-1 {color: black;background-color: white;}#sk-container-id-1 pre{padding: 0;}#sk-container-id-1 div.sk-toggleable {background-color: white;}#sk-container-id-1 label.sk-toggleable__label {cursor: pointer;display: block;width: 100%;margin-bottom: 0;padding: 0.3em;box-sizing: border-box;text-align: center;}#sk-container-id-1 label.sk-toggleable__label-arrow:before {content: \"▸\";float: left;margin-right: 0.25em;color: #696969;}#sk-container-id-1 label.sk-toggleable__label-arrow:hover:before {color: black;}#sk-container-id-1 div.sk-estimator:hover label.sk-toggleable__label-arrow:before {color: black;}#sk-container-id-1 div.sk-toggleable__content {max-height: 0;max-width: 0;overflow: hidden;text-align: left;background-color: #f0f8ff;}#sk-container-id-1 div.sk-toggleable__content pre {margin: 0.2em;color: black;border-radius: 0.25em;background-color: #f0f8ff;}#sk-container-id-1 input.sk-toggleable__control:checked~div.sk-toggleable__content {max-height: 200px;max-width: 100%;overflow: auto;}#sk-container-id-1 input.sk-toggleable__control:checked~label.sk-toggleable__label-arrow:before {content: \"▾\";}#sk-container-id-1 div.sk-estimator input.sk-toggleable__control:checked~label.sk-toggleable__label {background-color: #d4ebff;}#sk-container-id-1 div.sk-label input.sk-toggleable__control:checked~label.sk-toggleable__label {background-color: #d4ebff;}#sk-container-id-1 input.sk-hidden--visually {border: 0;clip: rect(1px 1px 1px 1px);clip: rect(1px, 1px, 1px, 1px);height: 1px;margin: -1px;overflow: hidden;padding: 0;position: absolute;width: 1px;}#sk-container-id-1 div.sk-estimator {font-family: monospace;background-color: #f0f8ff;border: 1px dotted black;border-radius: 0.25em;box-sizing: border-box;margin-bottom: 0.5em;}#sk-container-id-1 div.sk-estimator:hover {background-color: #d4ebff;}#sk-container-id-1 div.sk-parallel-item::after {content: \"\";width: 100%;border-bottom: 1px solid gray;flex-grow: 1;}#sk-container-id-1 div.sk-label:hover label.sk-toggleable__label {background-color: #d4ebff;}#sk-container-id-1 div.sk-serial::before {content: \"\";position: absolute;border-left: 1px solid gray;box-sizing: border-box;top: 0;bottom: 0;left: 50%;z-index: 0;}#sk-container-id-1 div.sk-serial {display: flex;flex-direction: column;align-items: center;background-color: white;padding-right: 0.2em;padding-left: 0.2em;position: relative;}#sk-container-id-1 div.sk-item {position: relative;z-index: 1;}#sk-container-id-1 div.sk-parallel {display: flex;align-items: stretch;justify-content: center;background-color: white;position: relative;}#sk-container-id-1 div.sk-item::before, #sk-container-id-1 div.sk-parallel-item::before {content: \"\";position: absolute;border-left: 1px solid gray;box-sizing: border-box;top: 0;bottom: 0;left: 50%;z-index: -1;}#sk-container-id-1 div.sk-parallel-item {display: flex;flex-direction: column;z-index: 1;position: relative;background-color: white;}#sk-container-id-1 div.sk-parallel-item:first-child::after {align-self: flex-end;width: 50%;}#sk-container-id-1 div.sk-parallel-item:last-child::after {align-self: flex-start;width: 50%;}#sk-container-id-1 div.sk-parallel-item:only-child::after {width: 0;}#sk-container-id-1 div.sk-dashed-wrapped {border: 1px dashed gray;margin: 0 0.4em 0.5em 0.4em;box-sizing: border-box;padding-bottom: 0.4em;background-color: white;}#sk-container-id-1 div.sk-label label {font-family: monospace;font-weight: bold;display: inline-block;line-height: 1.2em;}#sk-container-id-1 div.sk-label-container {text-align: center;}#sk-container-id-1 div.sk-container {/* jupyter's `normalize.less` sets `[hidden] { display: none; }` but bootstrap.min.css set `[hidden] { display: none !important; }` so we also need the `!important` here to be able to override the default hidden behavior on the sphinx rendered scikit-learn.org. See: https://github.com/scikit-learn/scikit-learn/issues/21755 */display: inline-block !important;position: relative;}#sk-container-id-1 div.sk-text-repr-fallback {display: none;}</style><div id=\"sk-container-id-1\" class=\"sk-top-container\"><div class=\"sk-text-repr-fallback\"><pre>XGBRegressor(base_score=None, booster=None, callbacks=None,\n",
       "             colsample_bylevel=None, colsample_bynode=None,\n",
       "             colsample_bytree=None, device=None, early_stopping_rounds=None,\n",
       "             enable_categorical=False, eval_metric=None, feature_types=None,\n",
       "             gamma=None, grow_policy=None, importance_type=None,\n",
       "             interaction_constraints=None, learning_rate=None, max_bin=None,\n",
       "             max_cat_threshold=None, max_cat_to_onehot=None,\n",
       "             max_delta_step=None, max_depth=None, max_leaves=None,\n",
       "             min_child_weight=None, missing=nan, monotone_constraints=None,\n",
       "             multi_strategy=None, n_estimators=None, n_jobs=None,\n",
       "             num_parallel_tree=None, random_state=None, ...)</pre><b>In a Jupyter environment, please rerun this cell to show the HTML representation or trust the notebook. <br />On GitHub, the HTML representation is unable to render, please try loading this page with nbviewer.org.</b></div><div class=\"sk-container\" hidden><div class=\"sk-item\"><div class=\"sk-estimator sk-toggleable\"><input class=\"sk-toggleable__control sk-hidden--visually\" id=\"sk-estimator-id-1\" type=\"checkbox\" checked><label for=\"sk-estimator-id-1\" class=\"sk-toggleable__label sk-toggleable__label-arrow\">XGBRegressor</label><div class=\"sk-toggleable__content\"><pre>XGBRegressor(base_score=None, booster=None, callbacks=None,\n",
       "             colsample_bylevel=None, colsample_bynode=None,\n",
       "             colsample_bytree=None, device=None, early_stopping_rounds=None,\n",
       "             enable_categorical=False, eval_metric=None, feature_types=None,\n",
       "             gamma=None, grow_policy=None, importance_type=None,\n",
       "             interaction_constraints=None, learning_rate=None, max_bin=None,\n",
       "             max_cat_threshold=None, max_cat_to_onehot=None,\n",
       "             max_delta_step=None, max_depth=None, max_leaves=None,\n",
       "             min_child_weight=None, missing=nan, monotone_constraints=None,\n",
       "             multi_strategy=None, n_estimators=None, n_jobs=None,\n",
       "             num_parallel_tree=None, random_state=None, ...)</pre></div></div></div></div></div>"
      ],
      "text/plain": [
       "XGBRegressor(base_score=None, booster=None, callbacks=None,\n",
       "             colsample_bylevel=None, colsample_bynode=None,\n",
       "             colsample_bytree=None, device=None, early_stopping_rounds=None,\n",
       "             enable_categorical=False, eval_metric=None, feature_types=None,\n",
       "             gamma=None, grow_policy=None, importance_type=None,\n",
       "             interaction_constraints=None, learning_rate=None, max_bin=None,\n",
       "             max_cat_threshold=None, max_cat_to_onehot=None,\n",
       "             max_delta_step=None, max_depth=None, max_leaves=None,\n",
       "             min_child_weight=None, missing=nan, monotone_constraints=None,\n",
       "             multi_strategy=None, n_estimators=None, n_jobs=None,\n",
       "             num_parallel_tree=None, random_state=None, ...)"
      ]
     },
     "execution_count": 30,
     "metadata": {},
     "output_type": "execute_result"
    }
   ],
   "source": [
    "xgb.fit(x_train,y_train)"
   ]
  },
  {
   "cell_type": "code",
   "execution_count": 31,
   "id": "00d5a76e-3be1-4eca-a196-64ada0f3b7b4",
   "metadata": {},
   "outputs": [],
   "source": [
    "test_data_prediction = xgb.predict(x_test)"
   ]
  },
  {
   "cell_type": "code",
   "execution_count": 32,
   "id": "dae2b580-8da9-4610-b8d6-6014737b9c9f",
   "metadata": {},
   "outputs": [
    {
     "data": {
      "text/plain": [
       "array([173.94151 , 187.12149 ,  51.277374, ..., 146.81786 ,  65.25577 ,\n",
       "        62.66202 ], dtype=float32)"
      ]
     },
     "execution_count": 32,
     "metadata": {},
     "output_type": "execute_result"
    }
   ],
   "source": [
    "test_data_prediction"
   ]
  },
  {
   "cell_type": "code",
   "execution_count": 33,
   "id": "79552b9b-029a-4bce-a037-adf294e95c9d",
   "metadata": {},
   "outputs": [],
   "source": [
    "rmse_xgb = mean_squared_error(y_test,test_data_prediction)"
   ]
  },
  {
   "cell_type": "code",
   "execution_count": 34,
   "id": "13bde854-f049-4640-b18e-b4d76d81ce1b",
   "metadata": {},
   "outputs": [
    {
     "data": {
      "text/plain": [
       "4.046262538855161"
      ]
     },
     "execution_count": 34,
     "metadata": {},
     "output_type": "execute_result"
    }
   ],
   "source": [
    "# Mean Squared Error of XGBRegressor\n",
    "rmse_xgb"
   ]
  },
  {
   "cell_type": "code",
   "execution_count": 35,
   "id": "3bc0c5a2-4df6-4e13-b94f-2ca6c32c2237",
   "metadata": {},
   "outputs": [],
   "source": [
    "mae_xgb = mean_absolute_error(y_test,test_data_prediction)"
   ]
  },
  {
   "cell_type": "code",
   "execution_count": 36,
   "id": "4d58a138-6823-47b3-943f-291e4281fa6c",
   "metadata": {},
   "outputs": [
    {
     "data": {
      "text/plain": [
       "1.41646373351415"
      ]
     },
     "execution_count": 36,
     "metadata": {},
     "output_type": "execute_result"
    }
   ],
   "source": [
    "mae_xgb"
   ]
  },
  {
   "cell_type": "markdown",
   "id": "40b6be61-5600-4797-bc78-97caf7a9a8cc",
   "metadata": {},
   "source": [
    "#### 2. Random Forest Regressor"
   ]
  },
  {
   "cell_type": "code",
   "execution_count": 37,
   "id": "ca320b5d-f9b7-40e5-a88f-35130863667a",
   "metadata": {},
   "outputs": [],
   "source": [
    "rfr = RandomForestRegressor(n_estimators=150)"
   ]
  },
  {
   "cell_type": "code",
   "execution_count": 38,
   "id": "b6231143-ef96-46e9-ac77-112dcdcbc80b",
   "metadata": {},
   "outputs": [
    {
     "data": {
      "text/html": [
       "<style>#sk-container-id-2 {color: black;background-color: white;}#sk-container-id-2 pre{padding: 0;}#sk-container-id-2 div.sk-toggleable {background-color: white;}#sk-container-id-2 label.sk-toggleable__label {cursor: pointer;display: block;width: 100%;margin-bottom: 0;padding: 0.3em;box-sizing: border-box;text-align: center;}#sk-container-id-2 label.sk-toggleable__label-arrow:before {content: \"▸\";float: left;margin-right: 0.25em;color: #696969;}#sk-container-id-2 label.sk-toggleable__label-arrow:hover:before {color: black;}#sk-container-id-2 div.sk-estimator:hover label.sk-toggleable__label-arrow:before {color: black;}#sk-container-id-2 div.sk-toggleable__content {max-height: 0;max-width: 0;overflow: hidden;text-align: left;background-color: #f0f8ff;}#sk-container-id-2 div.sk-toggleable__content pre {margin: 0.2em;color: black;border-radius: 0.25em;background-color: #f0f8ff;}#sk-container-id-2 input.sk-toggleable__control:checked~div.sk-toggleable__content {max-height: 200px;max-width: 100%;overflow: auto;}#sk-container-id-2 input.sk-toggleable__control:checked~label.sk-toggleable__label-arrow:before {content: \"▾\";}#sk-container-id-2 div.sk-estimator input.sk-toggleable__control:checked~label.sk-toggleable__label {background-color: #d4ebff;}#sk-container-id-2 div.sk-label input.sk-toggleable__control:checked~label.sk-toggleable__label {background-color: #d4ebff;}#sk-container-id-2 input.sk-hidden--visually {border: 0;clip: rect(1px 1px 1px 1px);clip: rect(1px, 1px, 1px, 1px);height: 1px;margin: -1px;overflow: hidden;padding: 0;position: absolute;width: 1px;}#sk-container-id-2 div.sk-estimator {font-family: monospace;background-color: #f0f8ff;border: 1px dotted black;border-radius: 0.25em;box-sizing: border-box;margin-bottom: 0.5em;}#sk-container-id-2 div.sk-estimator:hover {background-color: #d4ebff;}#sk-container-id-2 div.sk-parallel-item::after {content: \"\";width: 100%;border-bottom: 1px solid gray;flex-grow: 1;}#sk-container-id-2 div.sk-label:hover label.sk-toggleable__label {background-color: #d4ebff;}#sk-container-id-2 div.sk-serial::before {content: \"\";position: absolute;border-left: 1px solid gray;box-sizing: border-box;top: 0;bottom: 0;left: 50%;z-index: 0;}#sk-container-id-2 div.sk-serial {display: flex;flex-direction: column;align-items: center;background-color: white;padding-right: 0.2em;padding-left: 0.2em;position: relative;}#sk-container-id-2 div.sk-item {position: relative;z-index: 1;}#sk-container-id-2 div.sk-parallel {display: flex;align-items: stretch;justify-content: center;background-color: white;position: relative;}#sk-container-id-2 div.sk-item::before, #sk-container-id-2 div.sk-parallel-item::before {content: \"\";position: absolute;border-left: 1px solid gray;box-sizing: border-box;top: 0;bottom: 0;left: 50%;z-index: -1;}#sk-container-id-2 div.sk-parallel-item {display: flex;flex-direction: column;z-index: 1;position: relative;background-color: white;}#sk-container-id-2 div.sk-parallel-item:first-child::after {align-self: flex-end;width: 50%;}#sk-container-id-2 div.sk-parallel-item:last-child::after {align-self: flex-start;width: 50%;}#sk-container-id-2 div.sk-parallel-item:only-child::after {width: 0;}#sk-container-id-2 div.sk-dashed-wrapped {border: 1px dashed gray;margin: 0 0.4em 0.5em 0.4em;box-sizing: border-box;padding-bottom: 0.4em;background-color: white;}#sk-container-id-2 div.sk-label label {font-family: monospace;font-weight: bold;display: inline-block;line-height: 1.2em;}#sk-container-id-2 div.sk-label-container {text-align: center;}#sk-container-id-2 div.sk-container {/* jupyter's `normalize.less` sets `[hidden] { display: none; }` but bootstrap.min.css set `[hidden] { display: none !important; }` so we also need the `!important` here to be able to override the default hidden behavior on the sphinx rendered scikit-learn.org. See: https://github.com/scikit-learn/scikit-learn/issues/21755 */display: inline-block !important;position: relative;}#sk-container-id-2 div.sk-text-repr-fallback {display: none;}</style><div id=\"sk-container-id-2\" class=\"sk-top-container\"><div class=\"sk-text-repr-fallback\"><pre>RandomForestRegressor(n_estimators=150)</pre><b>In a Jupyter environment, please rerun this cell to show the HTML representation or trust the notebook. <br />On GitHub, the HTML representation is unable to render, please try loading this page with nbviewer.org.</b></div><div class=\"sk-container\" hidden><div class=\"sk-item\"><div class=\"sk-estimator sk-toggleable\"><input class=\"sk-toggleable__control sk-hidden--visually\" id=\"sk-estimator-id-2\" type=\"checkbox\" checked><label for=\"sk-estimator-id-2\" class=\"sk-toggleable__label sk-toggleable__label-arrow\">RandomForestRegressor</label><div class=\"sk-toggleable__content\"><pre>RandomForestRegressor(n_estimators=150)</pre></div></div></div></div></div>"
      ],
      "text/plain": [
       "RandomForestRegressor(n_estimators=150)"
      ]
     },
     "execution_count": 38,
     "metadata": {},
     "output_type": "execute_result"
    }
   ],
   "source": [
    "rfr.fit(x_train,y_train)"
   ]
  },
  {
   "cell_type": "code",
   "execution_count": 39,
   "id": "2d638a6f-66a6-4469-bbdc-e07c6927207c",
   "metadata": {},
   "outputs": [],
   "source": [
    "rfr_prediction = rfr.predict(x_test)"
   ]
  },
  {
   "cell_type": "code",
   "execution_count": 40,
   "id": "4e4e647b-72af-4e37-927d-21df0433295a",
   "metadata": {},
   "outputs": [
    {
     "data": {
      "text/plain": [
       "array([170.65333333, 190.68666667,  52.91333333, ..., 148.64      ,\n",
       "        64.51333333,  61.26666667])"
      ]
     },
     "execution_count": 40,
     "metadata": {},
     "output_type": "execute_result"
    }
   ],
   "source": [
    "rfr_prediction"
   ]
  },
  {
   "cell_type": "code",
   "execution_count": 41,
   "id": "102b1ded-8a08-4315-9c5a-d2e664408852",
   "metadata": {},
   "outputs": [],
   "source": [
    "rmse_rfr = mean_squared_error(y_test,rfr_prediction)"
   ]
  },
  {
   "cell_type": "code",
   "execution_count": 42,
   "id": "049c412a-af49-41db-8278-19f91b7ac25f",
   "metadata": {},
   "outputs": [
    {
     "data": {
      "text/plain": [
       "6.3782695967078205"
      ]
     },
     "execution_count": 42,
     "metadata": {},
     "output_type": "execute_result"
    }
   ],
   "source": [
    "# Mean Squared Error of Random Forest Regressor\n",
    "rmse_rfr"
   ]
  },
  {
   "cell_type": "code",
   "execution_count": 43,
   "id": "4bd77d66-1db2-44e2-8722-2e598ba4b8d8",
   "metadata": {},
   "outputs": [],
   "source": [
    "mae_rfr = mean_absolute_error(y_test,rfr_prediction)"
   ]
  },
  {
   "cell_type": "code",
   "execution_count": 44,
   "id": "5cd96db8-5d1d-4103-99c7-2eb7daf7797d",
   "metadata": {},
   "outputs": [
    {
     "data": {
      "text/plain": [
       "1.5837185185185185"
      ]
     },
     "execution_count": 44,
     "metadata": {},
     "output_type": "execute_result"
    }
   ],
   "source": [
    "mae_rfr"
   ]
  },
  {
   "cell_type": "markdown",
   "id": "097c5e91-9f67-4dff-b71e-2e329233bac2",
   "metadata": {},
   "source": [
    "#### 3. AdaBoost Regressor"
   ]
  },
  {
   "cell_type": "code",
   "execution_count": 45,
   "id": "fa1f8634-e4ff-478a-817f-667e891cf148",
   "metadata": {},
   "outputs": [],
   "source": [
    "abr = AdaBoostRegressor(DecisionTreeRegressor(max_depth=4), n_estimators=200, random_state=42)"
   ]
  },
  {
   "cell_type": "code",
   "execution_count": 46,
   "id": "9ce90b2f-76ba-4840-83fd-d35495c9033b",
   "metadata": {},
   "outputs": [
    {
     "data": {
      "text/html": [
       "<style>#sk-container-id-3 {color: black;background-color: white;}#sk-container-id-3 pre{padding: 0;}#sk-container-id-3 div.sk-toggleable {background-color: white;}#sk-container-id-3 label.sk-toggleable__label {cursor: pointer;display: block;width: 100%;margin-bottom: 0;padding: 0.3em;box-sizing: border-box;text-align: center;}#sk-container-id-3 label.sk-toggleable__label-arrow:before {content: \"▸\";float: left;margin-right: 0.25em;color: #696969;}#sk-container-id-3 label.sk-toggleable__label-arrow:hover:before {color: black;}#sk-container-id-3 div.sk-estimator:hover label.sk-toggleable__label-arrow:before {color: black;}#sk-container-id-3 div.sk-toggleable__content {max-height: 0;max-width: 0;overflow: hidden;text-align: left;background-color: #f0f8ff;}#sk-container-id-3 div.sk-toggleable__content pre {margin: 0.2em;color: black;border-radius: 0.25em;background-color: #f0f8ff;}#sk-container-id-3 input.sk-toggleable__control:checked~div.sk-toggleable__content {max-height: 200px;max-width: 100%;overflow: auto;}#sk-container-id-3 input.sk-toggleable__control:checked~label.sk-toggleable__label-arrow:before {content: \"▾\";}#sk-container-id-3 div.sk-estimator input.sk-toggleable__control:checked~label.sk-toggleable__label {background-color: #d4ebff;}#sk-container-id-3 div.sk-label input.sk-toggleable__control:checked~label.sk-toggleable__label {background-color: #d4ebff;}#sk-container-id-3 input.sk-hidden--visually {border: 0;clip: rect(1px 1px 1px 1px);clip: rect(1px, 1px, 1px, 1px);height: 1px;margin: -1px;overflow: hidden;padding: 0;position: absolute;width: 1px;}#sk-container-id-3 div.sk-estimator {font-family: monospace;background-color: #f0f8ff;border: 1px dotted black;border-radius: 0.25em;box-sizing: border-box;margin-bottom: 0.5em;}#sk-container-id-3 div.sk-estimator:hover {background-color: #d4ebff;}#sk-container-id-3 div.sk-parallel-item::after {content: \"\";width: 100%;border-bottom: 1px solid gray;flex-grow: 1;}#sk-container-id-3 div.sk-label:hover label.sk-toggleable__label {background-color: #d4ebff;}#sk-container-id-3 div.sk-serial::before {content: \"\";position: absolute;border-left: 1px solid gray;box-sizing: border-box;top: 0;bottom: 0;left: 50%;z-index: 0;}#sk-container-id-3 div.sk-serial {display: flex;flex-direction: column;align-items: center;background-color: white;padding-right: 0.2em;padding-left: 0.2em;position: relative;}#sk-container-id-3 div.sk-item {position: relative;z-index: 1;}#sk-container-id-3 div.sk-parallel {display: flex;align-items: stretch;justify-content: center;background-color: white;position: relative;}#sk-container-id-3 div.sk-item::before, #sk-container-id-3 div.sk-parallel-item::before {content: \"\";position: absolute;border-left: 1px solid gray;box-sizing: border-box;top: 0;bottom: 0;left: 50%;z-index: -1;}#sk-container-id-3 div.sk-parallel-item {display: flex;flex-direction: column;z-index: 1;position: relative;background-color: white;}#sk-container-id-3 div.sk-parallel-item:first-child::after {align-self: flex-end;width: 50%;}#sk-container-id-3 div.sk-parallel-item:last-child::after {align-self: flex-start;width: 50%;}#sk-container-id-3 div.sk-parallel-item:only-child::after {width: 0;}#sk-container-id-3 div.sk-dashed-wrapped {border: 1px dashed gray;margin: 0 0.4em 0.5em 0.4em;box-sizing: border-box;padding-bottom: 0.4em;background-color: white;}#sk-container-id-3 div.sk-label label {font-family: monospace;font-weight: bold;display: inline-block;line-height: 1.2em;}#sk-container-id-3 div.sk-label-container {text-align: center;}#sk-container-id-3 div.sk-container {/* jupyter's `normalize.less` sets `[hidden] { display: none; }` but bootstrap.min.css set `[hidden] { display: none !important; }` so we also need the `!important` here to be able to override the default hidden behavior on the sphinx rendered scikit-learn.org. See: https://github.com/scikit-learn/scikit-learn/issues/21755 */display: inline-block !important;position: relative;}#sk-container-id-3 div.sk-text-repr-fallback {display: none;}</style><div id=\"sk-container-id-3\" class=\"sk-top-container\"><div class=\"sk-text-repr-fallback\"><pre>AdaBoostRegressor(estimator=DecisionTreeRegressor(max_depth=4),\n",
       "                  n_estimators=200, random_state=42)</pre><b>In a Jupyter environment, please rerun this cell to show the HTML representation or trust the notebook. <br />On GitHub, the HTML representation is unable to render, please try loading this page with nbviewer.org.</b></div><div class=\"sk-container\" hidden><div class=\"sk-item sk-dashed-wrapped\"><div class=\"sk-label-container\"><div class=\"sk-label sk-toggleable\"><input class=\"sk-toggleable__control sk-hidden--visually\" id=\"sk-estimator-id-3\" type=\"checkbox\" ><label for=\"sk-estimator-id-3\" class=\"sk-toggleable__label sk-toggleable__label-arrow\">AdaBoostRegressor</label><div class=\"sk-toggleable__content\"><pre>AdaBoostRegressor(estimator=DecisionTreeRegressor(max_depth=4),\n",
       "                  n_estimators=200, random_state=42)</pre></div></div></div><div class=\"sk-parallel\"><div class=\"sk-parallel-item\"><div class=\"sk-item\"><div class=\"sk-label-container\"><div class=\"sk-label sk-toggleable\"><input class=\"sk-toggleable__control sk-hidden--visually\" id=\"sk-estimator-id-4\" type=\"checkbox\" ><label for=\"sk-estimator-id-4\" class=\"sk-toggleable__label sk-toggleable__label-arrow\">estimator: DecisionTreeRegressor</label><div class=\"sk-toggleable__content\"><pre>DecisionTreeRegressor(max_depth=4)</pre></div></div></div><div class=\"sk-serial\"><div class=\"sk-item\"><div class=\"sk-estimator sk-toggleable\"><input class=\"sk-toggleable__control sk-hidden--visually\" id=\"sk-estimator-id-5\" type=\"checkbox\" ><label for=\"sk-estimator-id-5\" class=\"sk-toggleable__label sk-toggleable__label-arrow\">DecisionTreeRegressor</label><div class=\"sk-toggleable__content\"><pre>DecisionTreeRegressor(max_depth=4)</pre></div></div></div></div></div></div></div></div></div></div>"
      ],
      "text/plain": [
       "AdaBoostRegressor(estimator=DecisionTreeRegressor(max_depth=4),\n",
       "                  n_estimators=200, random_state=42)"
      ]
     },
     "execution_count": 46,
     "metadata": {},
     "output_type": "execute_result"
    }
   ],
   "source": [
    "abr.fit(x_train,y_train)"
   ]
  },
  {
   "cell_type": "code",
   "execution_count": 47,
   "id": "292e4577-edb6-441f-a5cc-30df69bb6ee5",
   "metadata": {},
   "outputs": [],
   "source": [
    "abr_prediction = abr.predict(x_test)"
   ]
  },
  {
   "cell_type": "code",
   "execution_count": 48,
   "id": "78607b79-379c-488b-82a3-c14bf0bf56f4",
   "metadata": {},
   "outputs": [
    {
     "data": {
      "text/plain": [
       "array([180.64639357, 195.27859238,  50.40271493, ..., 161.01643192,\n",
       "        56.91959799,  61.29767442])"
      ]
     },
     "execution_count": 48,
     "metadata": {},
     "output_type": "execute_result"
    }
   ],
   "source": [
    "abr_prediction"
   ]
  },
  {
   "cell_type": "code",
   "execution_count": 49,
   "id": "876765f7-4e67-4345-868e-76f2a96c46b8",
   "metadata": {},
   "outputs": [],
   "source": [
    "rmse_abr = mean_squared_error(y_test,abr_prediction)"
   ]
  },
  {
   "cell_type": "code",
   "execution_count": 50,
   "id": "e85e9cc1-f5a2-47e8-9c23-38df2a5a136f",
   "metadata": {},
   "outputs": [
    {
     "data": {
      "text/plain": [
       "66.7479348405072"
      ]
     },
     "execution_count": 50,
     "metadata": {},
     "output_type": "execute_result"
    }
   ],
   "source": [
    "# Mean Squared Error od AdaBoost Regressor\n",
    "rmse_abr"
   ]
  },
  {
   "cell_type": "code",
   "execution_count": 51,
   "id": "20f64b82-8ee1-4dc7-92d4-2507c7052495",
   "metadata": {},
   "outputs": [],
   "source": [
    "mae_abr = mean_absolute_error(y_test,abr_prediction)"
   ]
  },
  {
   "cell_type": "code",
   "execution_count": 52,
   "id": "f9a001a5-3adc-4abf-90b2-b50d41dd441a",
   "metadata": {},
   "outputs": [
    {
     "data": {
      "text/plain": [
       "6.568413663699871"
      ]
     },
     "execution_count": 52,
     "metadata": {},
     "output_type": "execute_result"
    }
   ],
   "source": [
    "mae_abr"
   ]
  },
  {
   "cell_type": "markdown",
   "id": "85d5b34e-dc53-4d8c-9589-79ef38f181e5",
   "metadata": {},
   "source": [
    "#### 4. CatBoost Regressor"
   ]
  },
  {
   "cell_type": "code",
   "execution_count": 53,
   "id": "00c58e88-aeb5-4691-8a1e-e7c28e701504",
   "metadata": {},
   "outputs": [],
   "source": [
    "cbr = CatBoostRegressor()"
   ]
  },
  {
   "cell_type": "code",
   "execution_count": 54,
   "id": "ce185244-4209-40f5-81fc-3a80f78e2504",
   "metadata": {},
   "outputs": [
    {
     "name": "stdout",
     "output_type": "stream",
     "text": [
      "Learning rate set to 0.061877\n",
      "0:\tlearn: 58.8983952\ttotal: 58.2ms\tremaining: 58.1s\n",
      "1:\tlearn: 55.6562075\ttotal: 59.3ms\tremaining: 29.6s\n",
      "2:\tlearn: 52.5318277\ttotal: 60.9ms\tremaining: 20.2s\n",
      "3:\tlearn: 49.6325112\ttotal: 62.7ms\tremaining: 15.6s\n",
      "4:\tlearn: 46.9396708\ttotal: 63.8ms\tremaining: 12.7s\n",
      "5:\tlearn: 44.3354759\ttotal: 65ms\tremaining: 10.8s\n",
      "6:\tlearn: 41.9444698\ttotal: 66.1ms\tremaining: 9.38s\n",
      "7:\tlearn: 39.7698279\ttotal: 67.4ms\tremaining: 8.35s\n",
      "8:\tlearn: 37.6516915\ttotal: 68.5ms\tremaining: 7.54s\n",
      "9:\tlearn: 35.6062944\ttotal: 69.7ms\tremaining: 6.9s\n",
      "10:\tlearn: 33.7701149\ttotal: 70.8ms\tremaining: 6.36s\n",
      "11:\tlearn: 31.9545460\ttotal: 71.8ms\tremaining: 5.91s\n",
      "12:\tlearn: 30.2667792\ttotal: 73ms\tremaining: 5.54s\n",
      "13:\tlearn: 28.7292184\ttotal: 74.3ms\tremaining: 5.23s\n",
      "14:\tlearn: 27.2327112\ttotal: 75.4ms\tremaining: 4.95s\n",
      "15:\tlearn: 25.8081233\ttotal: 76.6ms\tremaining: 4.71s\n",
      "16:\tlearn: 24.4577019\ttotal: 77.8ms\tremaining: 4.5s\n",
      "17:\tlearn: 23.2392606\ttotal: 78.9ms\tremaining: 4.3s\n",
      "18:\tlearn: 22.0985609\ttotal: 80.3ms\tremaining: 4.14s\n",
      "19:\tlearn: 21.0206136\ttotal: 81.4ms\tremaining: 3.99s\n",
      "20:\tlearn: 19.9788918\ttotal: 82.4ms\tremaining: 3.84s\n",
      "21:\tlearn: 18.9971418\ttotal: 83.5ms\tremaining: 3.71s\n",
      "22:\tlearn: 18.1144592\ttotal: 84.7ms\tremaining: 3.6s\n",
      "23:\tlearn: 17.2596295\ttotal: 86.4ms\tremaining: 3.51s\n",
      "24:\tlearn: 16.4671487\ttotal: 88.2ms\tremaining: 3.44s\n",
      "25:\tlearn: 15.6937948\ttotal: 90.4ms\tremaining: 3.38s\n",
      "26:\tlearn: 14.9869304\ttotal: 91.4ms\tremaining: 3.29s\n",
      "27:\tlearn: 14.3045024\ttotal: 92.6ms\tremaining: 3.22s\n",
      "28:\tlearn: 13.6658040\ttotal: 93.7ms\tremaining: 3.14s\n",
      "29:\tlearn: 13.0570977\ttotal: 94.8ms\tremaining: 3.06s\n",
      "30:\tlearn: 12.5325413\ttotal: 96ms\tremaining: 3s\n",
      "31:\tlearn: 11.9843765\ttotal: 97.1ms\tremaining: 2.94s\n",
      "32:\tlearn: 11.4693306\ttotal: 98.2ms\tremaining: 2.88s\n",
      "33:\tlearn: 10.9950455\ttotal: 99.3ms\tremaining: 2.82s\n",
      "34:\tlearn: 10.5461112\ttotal: 100ms\tremaining: 2.77s\n",
      "35:\tlearn: 10.1183597\ttotal: 102ms\tremaining: 2.73s\n",
      "36:\tlearn: 9.7077758\ttotal: 103ms\tremaining: 2.68s\n",
      "37:\tlearn: 9.3401016\ttotal: 104ms\tremaining: 2.63s\n",
      "38:\tlearn: 8.9686910\ttotal: 106ms\tremaining: 2.6s\n",
      "39:\tlearn: 8.6352405\ttotal: 107ms\tremaining: 2.58s\n",
      "40:\tlearn: 8.3115907\ttotal: 108ms\tremaining: 2.53s\n",
      "41:\tlearn: 8.0173162\ttotal: 109ms\tremaining: 2.5s\n",
      "42:\tlearn: 7.7374019\ttotal: 110ms\tremaining: 2.46s\n",
      "43:\tlearn: 7.4518045\ttotal: 112ms\tremaining: 2.42s\n",
      "44:\tlearn: 7.1880249\ttotal: 113ms\tremaining: 2.4s\n",
      "45:\tlearn: 6.9425695\ttotal: 114ms\tremaining: 2.37s\n",
      "46:\tlearn: 6.7151281\ttotal: 115ms\tremaining: 2.34s\n",
      "47:\tlearn: 6.4893411\ttotal: 116ms\tremaining: 2.31s\n",
      "48:\tlearn: 6.2974873\ttotal: 117ms\tremaining: 2.28s\n",
      "49:\tlearn: 6.1091817\ttotal: 119ms\tremaining: 2.25s\n",
      "50:\tlearn: 5.9294876\ttotal: 120ms\tremaining: 2.23s\n",
      "51:\tlearn: 5.7646436\ttotal: 121ms\tremaining: 2.2s\n",
      "52:\tlearn: 5.6163264\ttotal: 122ms\tremaining: 2.18s\n",
      "53:\tlearn: 5.4616586\ttotal: 123ms\tremaining: 2.16s\n",
      "54:\tlearn: 5.3230079\ttotal: 125ms\tremaining: 2.15s\n",
      "55:\tlearn: 5.1924937\ttotal: 126ms\tremaining: 2.12s\n",
      "56:\tlearn: 5.0704350\ttotal: 128ms\tremaining: 2.11s\n",
      "57:\tlearn: 4.9605809\ttotal: 129ms\tremaining: 2.09s\n",
      "58:\tlearn: 4.8438926\ttotal: 130ms\tremaining: 2.07s\n",
      "59:\tlearn: 4.7318155\ttotal: 131ms\tremaining: 2.05s\n",
      "60:\tlearn: 4.6326970\ttotal: 132ms\tremaining: 2.03s\n",
      "61:\tlearn: 4.5395065\ttotal: 133ms\tremaining: 2.02s\n",
      "62:\tlearn: 4.4474002\ttotal: 134ms\tremaining: 2s\n",
      "63:\tlearn: 4.3583194\ttotal: 135ms\tremaining: 1.98s\n",
      "64:\tlearn: 4.2697905\ttotal: 137ms\tremaining: 1.96s\n",
      "65:\tlearn: 4.1943089\ttotal: 138ms\tremaining: 1.95s\n",
      "66:\tlearn: 4.1152609\ttotal: 139ms\tremaining: 1.94s\n",
      "67:\tlearn: 4.0373854\ttotal: 140ms\tremaining: 1.92s\n",
      "68:\tlearn: 3.9761841\ttotal: 141ms\tremaining: 1.91s\n",
      "69:\tlearn: 3.9160719\ttotal: 142ms\tremaining: 1.89s\n",
      "70:\tlearn: 3.8542866\ttotal: 144ms\tremaining: 1.88s\n",
      "71:\tlearn: 3.7884100\ttotal: 145ms\tremaining: 1.86s\n",
      "72:\tlearn: 3.7289920\ttotal: 146ms\tremaining: 1.85s\n",
      "73:\tlearn: 3.6802193\ttotal: 147ms\tremaining: 1.84s\n",
      "74:\tlearn: 3.6310961\ttotal: 148ms\tremaining: 1.83s\n",
      "75:\tlearn: 3.5833518\ttotal: 149ms\tremaining: 1.82s\n",
      "76:\tlearn: 3.5293205\ttotal: 151ms\tremaining: 1.81s\n",
      "77:\tlearn: 3.4798106\ttotal: 152ms\tremaining: 1.79s\n",
      "78:\tlearn: 3.4387490\ttotal: 153ms\tremaining: 1.78s\n",
      "79:\tlearn: 3.3997432\ttotal: 154ms\tremaining: 1.77s\n",
      "80:\tlearn: 3.3571968\ttotal: 155ms\tremaining: 1.76s\n",
      "81:\tlearn: 3.3198626\ttotal: 156ms\tremaining: 1.75s\n",
      "82:\tlearn: 3.2823386\ttotal: 157ms\tremaining: 1.74s\n",
      "83:\tlearn: 3.2455183\ttotal: 158ms\tremaining: 1.73s\n",
      "84:\tlearn: 3.2146997\ttotal: 159ms\tremaining: 1.72s\n",
      "85:\tlearn: 3.1826834\ttotal: 161ms\tremaining: 1.71s\n",
      "86:\tlearn: 3.1488516\ttotal: 162ms\tremaining: 1.7s\n",
      "87:\tlearn: 3.1180676\ttotal: 163ms\tremaining: 1.69s\n",
      "88:\tlearn: 3.0873670\ttotal: 164ms\tremaining: 1.67s\n",
      "89:\tlearn: 3.0607296\ttotal: 165ms\tremaining: 1.66s\n",
      "90:\tlearn: 3.0221856\ttotal: 166ms\tremaining: 1.65s\n",
      "91:\tlearn: 2.9908939\ttotal: 167ms\tremaining: 1.65s\n",
      "92:\tlearn: 2.9664996\ttotal: 168ms\tremaining: 1.64s\n",
      "93:\tlearn: 2.9462365\ttotal: 169ms\tremaining: 1.63s\n",
      "94:\tlearn: 2.9119638\ttotal: 170ms\tremaining: 1.62s\n",
      "95:\tlearn: 2.8927668\ttotal: 172ms\tremaining: 1.62s\n",
      "96:\tlearn: 2.8713503\ttotal: 173ms\tremaining: 1.61s\n",
      "97:\tlearn: 2.8453869\ttotal: 174ms\tremaining: 1.6s\n",
      "98:\tlearn: 2.8223929\ttotal: 175ms\tremaining: 1.59s\n",
      "99:\tlearn: 2.7996219\ttotal: 177ms\tremaining: 1.59s\n",
      "100:\tlearn: 2.7845831\ttotal: 178ms\tremaining: 1.58s\n",
      "101:\tlearn: 2.7630661\ttotal: 179ms\tremaining: 1.57s\n",
      "102:\tlearn: 2.7463763\ttotal: 180ms\tremaining: 1.57s\n",
      "103:\tlearn: 2.7261774\ttotal: 181ms\tremaining: 1.56s\n",
      "104:\tlearn: 2.7129537\ttotal: 182ms\tremaining: 1.55s\n",
      "105:\tlearn: 2.6943974\ttotal: 183ms\tremaining: 1.54s\n",
      "106:\tlearn: 2.6807494\ttotal: 184ms\tremaining: 1.54s\n",
      "107:\tlearn: 2.6650644\ttotal: 186ms\tremaining: 1.53s\n",
      "108:\tlearn: 2.6509828\ttotal: 187ms\tremaining: 1.53s\n",
      "109:\tlearn: 2.6287561\ttotal: 188ms\tremaining: 1.52s\n",
      "110:\tlearn: 2.6103934\ttotal: 189ms\tremaining: 1.51s\n",
      "111:\tlearn: 2.5963153\ttotal: 190ms\tremaining: 1.51s\n",
      "112:\tlearn: 2.5758986\ttotal: 191ms\tremaining: 1.5s\n",
      "113:\tlearn: 2.5567409\ttotal: 193ms\tremaining: 1.5s\n",
      "114:\tlearn: 2.5434015\ttotal: 194ms\tremaining: 1.49s\n",
      "115:\tlearn: 2.5288412\ttotal: 195ms\tremaining: 1.48s\n",
      "116:\tlearn: 2.5130368\ttotal: 196ms\tremaining: 1.48s\n",
      "117:\tlearn: 2.5006432\ttotal: 197ms\tremaining: 1.47s\n",
      "118:\tlearn: 2.4891144\ttotal: 198ms\tremaining: 1.47s\n",
      "119:\tlearn: 2.4686450\ttotal: 200ms\tremaining: 1.46s\n",
      "120:\tlearn: 2.4543958\ttotal: 201ms\tremaining: 1.46s\n",
      "121:\tlearn: 2.4394674\ttotal: 202ms\tremaining: 1.45s\n",
      "122:\tlearn: 2.4172208\ttotal: 203ms\tremaining: 1.45s\n",
      "123:\tlearn: 2.4089947\ttotal: 204ms\tremaining: 1.44s\n",
      "124:\tlearn: 2.3971509\ttotal: 205ms\tremaining: 1.44s\n",
      "125:\tlearn: 2.3832692\ttotal: 206ms\tremaining: 1.43s\n",
      "126:\tlearn: 2.3667399\ttotal: 207ms\tremaining: 1.43s\n",
      "127:\tlearn: 2.3586531\ttotal: 208ms\tremaining: 1.42s\n",
      "128:\tlearn: 2.3463432\ttotal: 210ms\tremaining: 1.42s\n",
      "129:\tlearn: 2.3329454\ttotal: 211ms\tremaining: 1.41s\n",
      "130:\tlearn: 2.3194908\ttotal: 212ms\tremaining: 1.41s\n",
      "131:\tlearn: 2.3000528\ttotal: 213ms\tremaining: 1.4s\n",
      "132:\tlearn: 2.2826900\ttotal: 214ms\tremaining: 1.4s\n",
      "133:\tlearn: 2.2673620\ttotal: 215ms\tremaining: 1.39s\n",
      "134:\tlearn: 2.2526233\ttotal: 217ms\tremaining: 1.39s\n",
      "135:\tlearn: 2.2385138\ttotal: 218ms\tremaining: 1.38s\n",
      "136:\tlearn: 2.2252074\ttotal: 219ms\tremaining: 1.38s\n",
      "137:\tlearn: 2.2159433\ttotal: 220ms\tremaining: 1.38s\n",
      "138:\tlearn: 2.2022112\ttotal: 222ms\tremaining: 1.38s\n",
      "139:\tlearn: 2.1902048\ttotal: 223ms\tremaining: 1.37s\n",
      "140:\tlearn: 2.1746599\ttotal: 224ms\tremaining: 1.37s\n",
      "141:\tlearn: 2.1629714\ttotal: 225ms\tremaining: 1.36s\n",
      "142:\tlearn: 2.1479630\ttotal: 227ms\tremaining: 1.36s\n",
      "143:\tlearn: 2.1332599\ttotal: 228ms\tremaining: 1.36s\n",
      "144:\tlearn: 2.1234960\ttotal: 230ms\tremaining: 1.35s\n",
      "145:\tlearn: 2.1129203\ttotal: 231ms\tremaining: 1.35s\n",
      "146:\tlearn: 2.1002114\ttotal: 232ms\tremaining: 1.34s\n",
      "147:\tlearn: 2.0868795\ttotal: 233ms\tremaining: 1.34s\n",
      "148:\tlearn: 2.0779494\ttotal: 234ms\tremaining: 1.34s\n",
      "149:\tlearn: 2.0706920\ttotal: 235ms\tremaining: 1.33s\n",
      "150:\tlearn: 2.0601820\ttotal: 236ms\tremaining: 1.33s\n",
      "151:\tlearn: 2.0483138\ttotal: 237ms\tremaining: 1.32s\n",
      "152:\tlearn: 2.0290191\ttotal: 239ms\tremaining: 1.32s\n",
      "153:\tlearn: 2.0206951\ttotal: 240ms\tremaining: 1.32s\n",
      "154:\tlearn: 2.0110237\ttotal: 241ms\tremaining: 1.31s\n",
      "155:\tlearn: 1.9984530\ttotal: 242ms\tremaining: 1.31s\n",
      "156:\tlearn: 1.9846070\ttotal: 243ms\tremaining: 1.3s\n",
      "157:\tlearn: 1.9750706\ttotal: 244ms\tremaining: 1.3s\n",
      "158:\tlearn: 1.9648082\ttotal: 245ms\tremaining: 1.3s\n",
      "159:\tlearn: 1.9552684\ttotal: 246ms\tremaining: 1.29s\n",
      "160:\tlearn: 1.9414262\ttotal: 247ms\tremaining: 1.29s\n",
      "161:\tlearn: 1.9318328\ttotal: 249ms\tremaining: 1.29s\n",
      "162:\tlearn: 1.9232245\ttotal: 250ms\tremaining: 1.28s\n",
      "163:\tlearn: 1.9151323\ttotal: 251ms\tremaining: 1.28s\n",
      "164:\tlearn: 1.9081200\ttotal: 252ms\tremaining: 1.28s\n",
      "165:\tlearn: 1.8921569\ttotal: 254ms\tremaining: 1.27s\n",
      "166:\tlearn: 1.8853694\ttotal: 255ms\tremaining: 1.27s\n",
      "167:\tlearn: 1.8767481\ttotal: 256ms\tremaining: 1.27s\n",
      "168:\tlearn: 1.8675041\ttotal: 257ms\tremaining: 1.26s\n",
      "169:\tlearn: 1.8578947\ttotal: 259ms\tremaining: 1.26s\n",
      "170:\tlearn: 1.8509649\ttotal: 260ms\tremaining: 1.26s\n",
      "171:\tlearn: 1.8422761\ttotal: 261ms\tremaining: 1.25s\n",
      "172:\tlearn: 1.8340016\ttotal: 262ms\tremaining: 1.25s\n",
      "173:\tlearn: 1.8259534\ttotal: 263ms\tremaining: 1.25s\n",
      "174:\tlearn: 1.8108090\ttotal: 264ms\tremaining: 1.25s\n",
      "175:\tlearn: 1.8048897\ttotal: 265ms\tremaining: 1.24s\n",
      "176:\tlearn: 1.7973023\ttotal: 267ms\tremaining: 1.24s\n",
      "177:\tlearn: 1.7917451\ttotal: 268ms\tremaining: 1.24s\n",
      "178:\tlearn: 1.7832396\ttotal: 269ms\tremaining: 1.23s\n",
      "179:\tlearn: 1.7742251\ttotal: 270ms\tremaining: 1.23s\n",
      "180:\tlearn: 1.7677100\ttotal: 271ms\tremaining: 1.23s\n",
      "181:\tlearn: 1.7616099\ttotal: 272ms\tremaining: 1.22s\n",
      "182:\tlearn: 1.7553013\ttotal: 273ms\tremaining: 1.22s\n",
      "183:\tlearn: 1.7496271\ttotal: 274ms\tremaining: 1.22s\n",
      "184:\tlearn: 1.7451303\ttotal: 275ms\tremaining: 1.21s\n",
      "185:\tlearn: 1.7349161\ttotal: 276ms\tremaining: 1.21s\n",
      "186:\tlearn: 1.7282473\ttotal: 277ms\tremaining: 1.21s\n",
      "187:\tlearn: 1.7205934\ttotal: 278ms\tremaining: 1.2s\n",
      "188:\tlearn: 1.7125354\ttotal: 279ms\tremaining: 1.2s\n",
      "189:\tlearn: 1.7042263\ttotal: 280ms\tremaining: 1.2s\n",
      "190:\tlearn: 1.6954144\ttotal: 282ms\tremaining: 1.19s\n",
      "191:\tlearn: 1.6895383\ttotal: 283ms\tremaining: 1.19s\n",
      "192:\tlearn: 1.6813323\ttotal: 284ms\tremaining: 1.19s\n",
      "193:\tlearn: 1.6744222\ttotal: 286ms\tremaining: 1.19s\n",
      "194:\tlearn: 1.6654660\ttotal: 287ms\tremaining: 1.18s\n",
      "195:\tlearn: 1.6587245\ttotal: 288ms\tremaining: 1.18s\n",
      "196:\tlearn: 1.6540083\ttotal: 290ms\tremaining: 1.18s\n",
      "197:\tlearn: 1.6489017\ttotal: 291ms\tremaining: 1.18s\n",
      "198:\tlearn: 1.6439863\ttotal: 292ms\tremaining: 1.18s\n",
      "199:\tlearn: 1.6361964\ttotal: 293ms\tremaining: 1.17s\n",
      "200:\tlearn: 1.6289035\ttotal: 295ms\tremaining: 1.17s\n",
      "201:\tlearn: 1.6223346\ttotal: 296ms\tremaining: 1.17s\n",
      "202:\tlearn: 1.6151747\ttotal: 297ms\tremaining: 1.16s\n",
      "203:\tlearn: 1.6092522\ttotal: 298ms\tremaining: 1.16s\n",
      "204:\tlearn: 1.6023682\ttotal: 299ms\tremaining: 1.16s\n",
      "205:\tlearn: 1.5918062\ttotal: 300ms\tremaining: 1.16s\n",
      "206:\tlearn: 1.5869729\ttotal: 301ms\tremaining: 1.15s\n",
      "207:\tlearn: 1.5822278\ttotal: 302ms\tremaining: 1.15s\n",
      "208:\tlearn: 1.5779111\ttotal: 303ms\tremaining: 1.15s\n",
      "209:\tlearn: 1.5712320\ttotal: 304ms\tremaining: 1.14s\n",
      "210:\tlearn: 1.5633604\ttotal: 305ms\tremaining: 1.14s\n",
      "211:\tlearn: 1.5584663\ttotal: 306ms\tremaining: 1.14s\n",
      "212:\tlearn: 1.5533721\ttotal: 307ms\tremaining: 1.14s\n",
      "213:\tlearn: 1.5493580\ttotal: 308ms\tremaining: 1.13s\n",
      "214:\tlearn: 1.5400866\ttotal: 309ms\tremaining: 1.13s\n",
      "215:\tlearn: 1.5356872\ttotal: 311ms\tremaining: 1.13s\n",
      "216:\tlearn: 1.5301977\ttotal: 312ms\tremaining: 1.12s\n",
      "217:\tlearn: 1.5259754\ttotal: 313ms\tremaining: 1.12s\n",
      "218:\tlearn: 1.5212525\ttotal: 314ms\tremaining: 1.12s\n",
      "219:\tlearn: 1.5167131\ttotal: 315ms\tremaining: 1.11s\n",
      "220:\tlearn: 1.5077846\ttotal: 316ms\tremaining: 1.11s\n",
      "221:\tlearn: 1.5026714\ttotal: 317ms\tremaining: 1.11s\n",
      "222:\tlearn: 1.4942211\ttotal: 318ms\tremaining: 1.11s\n",
      "223:\tlearn: 1.4884475\ttotal: 319ms\tremaining: 1.1s\n",
      "224:\tlearn: 1.4841539\ttotal: 320ms\tremaining: 1.1s\n",
      "225:\tlearn: 1.4780427\ttotal: 321ms\tremaining: 1.1s\n",
      "226:\tlearn: 1.4722241\ttotal: 322ms\tremaining: 1.1s\n",
      "227:\tlearn: 1.4687743\ttotal: 323ms\tremaining: 1.09s\n",
      "228:\tlearn: 1.4626346\ttotal: 324ms\tremaining: 1.09s\n",
      "229:\tlearn: 1.4569396\ttotal: 325ms\tremaining: 1.09s\n",
      "230:\tlearn: 1.4511103\ttotal: 326ms\tremaining: 1.09s\n",
      "231:\tlearn: 1.4480251\ttotal: 328ms\tremaining: 1.09s\n",
      "232:\tlearn: 1.4436522\ttotal: 330ms\tremaining: 1.08s\n",
      "233:\tlearn: 1.4397544\ttotal: 331ms\tremaining: 1.08s\n",
      "234:\tlearn: 1.4315905\ttotal: 332ms\tremaining: 1.08s\n",
      "235:\tlearn: 1.4272574\ttotal: 334ms\tremaining: 1.08s\n",
      "236:\tlearn: 1.4216039\ttotal: 335ms\tremaining: 1.08s\n",
      "237:\tlearn: 1.4173990\ttotal: 336ms\tremaining: 1.07s\n",
      "238:\tlearn: 1.4115732\ttotal: 337ms\tremaining: 1.07s\n",
      "239:\tlearn: 1.4081857\ttotal: 338ms\tremaining: 1.07s\n",
      "240:\tlearn: 1.4031929\ttotal: 339ms\tremaining: 1.07s\n",
      "241:\tlearn: 1.3960650\ttotal: 341ms\tremaining: 1.07s\n",
      "242:\tlearn: 1.3898620\ttotal: 342ms\tremaining: 1.06s\n",
      "243:\tlearn: 1.3858839\ttotal: 343ms\tremaining: 1.06s\n",
      "244:\tlearn: 1.3817071\ttotal: 345ms\tremaining: 1.06s\n",
      "245:\tlearn: 1.3765365\ttotal: 346ms\tremaining: 1.06s\n",
      "246:\tlearn: 1.3706496\ttotal: 347ms\tremaining: 1.06s\n",
      "247:\tlearn: 1.3676250\ttotal: 348ms\tremaining: 1.06s\n",
      "248:\tlearn: 1.3609290\ttotal: 349ms\tremaining: 1.05s\n",
      "249:\tlearn: 1.3560399\ttotal: 350ms\tremaining: 1.05s\n",
      "250:\tlearn: 1.3517983\ttotal: 352ms\tremaining: 1.05s\n",
      "251:\tlearn: 1.3471232\ttotal: 353ms\tremaining: 1.05s\n",
      "252:\tlearn: 1.3415365\ttotal: 354ms\tremaining: 1.04s\n",
      "253:\tlearn: 1.3338912\ttotal: 355ms\tremaining: 1.04s\n",
      "254:\tlearn: 1.3290939\ttotal: 356ms\tremaining: 1.04s\n",
      "255:\tlearn: 1.3242554\ttotal: 358ms\tremaining: 1.04s\n",
      "256:\tlearn: 1.3195481\ttotal: 359ms\tremaining: 1.04s\n",
      "257:\tlearn: 1.3169599\ttotal: 360ms\tremaining: 1.03s\n",
      "258:\tlearn: 1.3142825\ttotal: 361ms\tremaining: 1.03s\n",
      "259:\tlearn: 1.3116201\ttotal: 363ms\tremaining: 1.03s\n",
      "260:\tlearn: 1.3060185\ttotal: 364ms\tremaining: 1.03s\n",
      "261:\tlearn: 1.3033366\ttotal: 365ms\tremaining: 1.03s\n",
      "262:\tlearn: 1.2985859\ttotal: 366ms\tremaining: 1.02s\n",
      "263:\tlearn: 1.2945469\ttotal: 367ms\tremaining: 1.02s\n",
      "264:\tlearn: 1.2901331\ttotal: 369ms\tremaining: 1.02s\n",
      "265:\tlearn: 1.2869729\ttotal: 370ms\tremaining: 1.02s\n",
      "266:\tlearn: 1.2815035\ttotal: 371ms\tremaining: 1.02s\n",
      "267:\tlearn: 1.2786460\ttotal: 372ms\tremaining: 1.02s\n",
      "268:\tlearn: 1.2762545\ttotal: 373ms\tremaining: 1.01s\n",
      "269:\tlearn: 1.2717766\ttotal: 375ms\tremaining: 1.01s\n",
      "270:\tlearn: 1.2668126\ttotal: 376ms\tremaining: 1.01s\n",
      "271:\tlearn: 1.2632930\ttotal: 377ms\tremaining: 1.01s\n",
      "272:\tlearn: 1.2603201\ttotal: 378ms\tremaining: 1.01s\n",
      "273:\tlearn: 1.2540997\ttotal: 380ms\tremaining: 1.01s\n",
      "274:\tlearn: 1.2506173\ttotal: 382ms\tremaining: 1.01s\n",
      "275:\tlearn: 1.2428596\ttotal: 384ms\tremaining: 1.01s\n",
      "276:\tlearn: 1.2404005\ttotal: 385ms\tremaining: 1s\n",
      "277:\tlearn: 1.2371547\ttotal: 386ms\tremaining: 1s\n",
      "278:\tlearn: 1.2341079\ttotal: 388ms\tremaining: 1s\n",
      "279:\tlearn: 1.2294157\ttotal: 390ms\tremaining: 1s\n",
      "280:\tlearn: 1.2265893\ttotal: 391ms\tremaining: 1s\n",
      "281:\tlearn: 1.2219802\ttotal: 392ms\tremaining: 999ms\n",
      "282:\tlearn: 1.2187726\ttotal: 394ms\tremaining: 999ms\n",
      "283:\tlearn: 1.2140926\ttotal: 396ms\tremaining: 998ms\n",
      "284:\tlearn: 1.2117364\ttotal: 397ms\tremaining: 995ms\n",
      "285:\tlearn: 1.2086161\ttotal: 398ms\tremaining: 993ms\n",
      "286:\tlearn: 1.2056761\ttotal: 399ms\tremaining: 991ms\n",
      "287:\tlearn: 1.2036319\ttotal: 400ms\tremaining: 989ms\n",
      "288:\tlearn: 1.2004711\ttotal: 401ms\tremaining: 987ms\n",
      "289:\tlearn: 1.1978218\ttotal: 403ms\tremaining: 985ms\n",
      "290:\tlearn: 1.1934914\ttotal: 404ms\tremaining: 983ms\n",
      "291:\tlearn: 1.1908393\ttotal: 405ms\tremaining: 982ms\n",
      "292:\tlearn: 1.1881655\ttotal: 406ms\tremaining: 979ms\n",
      "293:\tlearn: 1.1833859\ttotal: 407ms\tremaining: 977ms\n",
      "294:\tlearn: 1.1787958\ttotal: 409ms\tremaining: 977ms\n",
      "295:\tlearn: 1.1734695\ttotal: 410ms\tremaining: 975ms\n",
      "296:\tlearn: 1.1701237\ttotal: 411ms\tremaining: 973ms\n",
      "297:\tlearn: 1.1649761\ttotal: 412ms\tremaining: 972ms\n",
      "298:\tlearn: 1.1615665\ttotal: 414ms\tremaining: 970ms\n",
      "299:\tlearn: 1.1574757\ttotal: 415ms\tremaining: 968ms\n",
      "300:\tlearn: 1.1552153\ttotal: 416ms\tremaining: 966ms\n",
      "301:\tlearn: 1.1511053\ttotal: 417ms\tremaining: 963ms\n",
      "302:\tlearn: 1.1485799\ttotal: 418ms\tremaining: 962ms\n",
      "303:\tlearn: 1.1445254\ttotal: 419ms\tremaining: 960ms\n",
      "304:\tlearn: 1.1412060\ttotal: 421ms\tremaining: 958ms\n",
      "305:\tlearn: 1.1398197\ttotal: 422ms\tremaining: 957ms\n",
      "306:\tlearn: 1.1371594\ttotal: 424ms\tremaining: 956ms\n",
      "307:\tlearn: 1.1334330\ttotal: 425ms\tremaining: 955ms\n",
      "308:\tlearn: 1.1318076\ttotal: 426ms\tremaining: 953ms\n",
      "309:\tlearn: 1.1276351\ttotal: 428ms\tremaining: 952ms\n",
      "310:\tlearn: 1.1250480\ttotal: 429ms\tremaining: 950ms\n",
      "311:\tlearn: 1.1221432\ttotal: 430ms\tremaining: 948ms\n",
      "312:\tlearn: 1.1185791\ttotal: 431ms\tremaining: 946ms\n",
      "313:\tlearn: 1.1157283\ttotal: 432ms\tremaining: 944ms\n",
      "314:\tlearn: 1.1125498\ttotal: 433ms\tremaining: 942ms\n",
      "315:\tlearn: 1.1100972\ttotal: 434ms\tremaining: 940ms\n",
      "316:\tlearn: 1.1067197\ttotal: 435ms\tremaining: 938ms\n",
      "317:\tlearn: 1.1040708\ttotal: 437ms\tremaining: 936ms\n",
      "318:\tlearn: 1.0994768\ttotal: 438ms\tremaining: 935ms\n",
      "319:\tlearn: 1.0958255\ttotal: 440ms\tremaining: 934ms\n",
      "320:\tlearn: 1.0928417\ttotal: 441ms\tremaining: 932ms\n",
      "321:\tlearn: 1.0891946\ttotal: 442ms\tremaining: 932ms\n",
      "322:\tlearn: 1.0857235\ttotal: 444ms\tremaining: 930ms\n",
      "323:\tlearn: 1.0839003\ttotal: 445ms\tremaining: 928ms\n",
      "324:\tlearn: 1.0806805\ttotal: 446ms\tremaining: 926ms\n",
      "325:\tlearn: 1.0780800\ttotal: 447ms\tremaining: 924ms\n",
      "326:\tlearn: 1.0757848\ttotal: 448ms\tremaining: 922ms\n",
      "327:\tlearn: 1.0736017\ttotal: 449ms\tremaining: 920ms\n",
      "328:\tlearn: 1.0724074\ttotal: 450ms\tremaining: 918ms\n",
      "329:\tlearn: 1.0697785\ttotal: 451ms\tremaining: 917ms\n",
      "330:\tlearn: 1.0666663\ttotal: 453ms\tremaining: 915ms\n",
      "331:\tlearn: 1.0642511\ttotal: 454ms\tremaining: 913ms\n",
      "332:\tlearn: 1.0617545\ttotal: 455ms\tremaining: 910ms\n",
      "333:\tlearn: 1.0593326\ttotal: 456ms\tremaining: 909ms\n",
      "334:\tlearn: 1.0570533\ttotal: 457ms\tremaining: 907ms\n",
      "335:\tlearn: 1.0554280\ttotal: 458ms\tremaining: 905ms\n",
      "336:\tlearn: 1.0537551\ttotal: 459ms\tremaining: 903ms\n",
      "337:\tlearn: 1.0508883\ttotal: 460ms\tremaining: 901ms\n",
      "338:\tlearn: 1.0484345\ttotal: 461ms\tremaining: 899ms\n",
      "339:\tlearn: 1.0462958\ttotal: 462ms\tremaining: 898ms\n",
      "340:\tlearn: 1.0439967\ttotal: 464ms\tremaining: 896ms\n",
      "341:\tlearn: 1.0413694\ttotal: 465ms\tremaining: 894ms\n",
      "342:\tlearn: 1.0392434\ttotal: 466ms\tremaining: 892ms\n",
      "343:\tlearn: 1.0375021\ttotal: 467ms\tremaining: 891ms\n",
      "344:\tlearn: 1.0344887\ttotal: 468ms\tremaining: 889ms\n",
      "345:\tlearn: 1.0320474\ttotal: 469ms\tremaining: 887ms\n",
      "346:\tlearn: 1.0304848\ttotal: 470ms\tremaining: 885ms\n",
      "347:\tlearn: 1.0292370\ttotal: 471ms\tremaining: 882ms\n",
      "348:\tlearn: 1.0259773\ttotal: 472ms\tremaining: 880ms\n",
      "349:\tlearn: 1.0245318\ttotal: 473ms\tremaining: 879ms\n",
      "350:\tlearn: 1.0228200\ttotal: 474ms\tremaining: 877ms\n",
      "351:\tlearn: 1.0202860\ttotal: 475ms\tremaining: 875ms\n",
      "352:\tlearn: 1.0179625\ttotal: 476ms\tremaining: 873ms\n",
      "353:\tlearn: 1.0153383\ttotal: 477ms\tremaining: 871ms\n",
      "354:\tlearn: 1.0133162\ttotal: 479ms\tremaining: 870ms\n",
      "355:\tlearn: 1.0101637\ttotal: 480ms\tremaining: 868ms\n",
      "356:\tlearn: 1.0059253\ttotal: 481ms\tremaining: 866ms\n",
      "357:\tlearn: 1.0032301\ttotal: 482ms\tremaining: 865ms\n",
      "358:\tlearn: 1.0005827\ttotal: 483ms\tremaining: 863ms\n",
      "359:\tlearn: 0.9983678\ttotal: 484ms\tremaining: 861ms\n",
      "360:\tlearn: 0.9961712\ttotal: 485ms\tremaining: 859ms\n",
      "361:\tlearn: 0.9945087\ttotal: 486ms\tremaining: 857ms\n",
      "362:\tlearn: 0.9917573\ttotal: 488ms\tremaining: 856ms\n",
      "363:\tlearn: 0.9896066\ttotal: 489ms\tremaining: 854ms\n",
      "364:\tlearn: 0.9882346\ttotal: 490ms\tremaining: 853ms\n",
      "365:\tlearn: 0.9862789\ttotal: 491ms\tremaining: 851ms\n",
      "366:\tlearn: 0.9839025\ttotal: 492ms\tremaining: 849ms\n",
      "367:\tlearn: 0.9822403\ttotal: 493ms\tremaining: 847ms\n",
      "368:\tlearn: 0.9799354\ttotal: 494ms\tremaining: 845ms\n",
      "369:\tlearn: 0.9787052\ttotal: 496ms\tremaining: 844ms\n",
      "370:\tlearn: 0.9766941\ttotal: 497ms\tremaining: 842ms\n",
      "371:\tlearn: 0.9757690\ttotal: 498ms\tremaining: 841ms\n",
      "372:\tlearn: 0.9742416\ttotal: 499ms\tremaining: 839ms\n",
      "373:\tlearn: 0.9724695\ttotal: 500ms\tremaining: 837ms\n",
      "374:\tlearn: 0.9703651\ttotal: 501ms\tremaining: 836ms\n",
      "375:\tlearn: 0.9686538\ttotal: 503ms\tremaining: 834ms\n",
      "376:\tlearn: 0.9669562\ttotal: 504ms\tremaining: 833ms\n",
      "377:\tlearn: 0.9652846\ttotal: 505ms\tremaining: 831ms\n",
      "378:\tlearn: 0.9642229\ttotal: 506ms\tremaining: 829ms\n",
      "379:\tlearn: 0.9633061\ttotal: 507ms\tremaining: 827ms\n",
      "380:\tlearn: 0.9614200\ttotal: 508ms\tremaining: 826ms\n",
      "381:\tlearn: 0.9591031\ttotal: 509ms\tremaining: 824ms\n",
      "382:\tlearn: 0.9579061\ttotal: 510ms\tremaining: 822ms\n",
      "383:\tlearn: 0.9561374\ttotal: 512ms\tremaining: 821ms\n",
      "384:\tlearn: 0.9551819\ttotal: 513ms\tremaining: 819ms\n",
      "385:\tlearn: 0.9535902\ttotal: 514ms\tremaining: 817ms\n",
      "386:\tlearn: 0.9513707\ttotal: 515ms\tremaining: 815ms\n",
      "387:\tlearn: 0.9470296\ttotal: 516ms\tremaining: 814ms\n",
      "388:\tlearn: 0.9449499\ttotal: 517ms\tremaining: 812ms\n",
      "389:\tlearn: 0.9427754\ttotal: 519ms\tremaining: 811ms\n",
      "390:\tlearn: 0.9405708\ttotal: 520ms\tremaining: 809ms\n",
      "391:\tlearn: 0.9392842\ttotal: 521ms\tremaining: 808ms\n",
      "392:\tlearn: 0.9385327\ttotal: 522ms\tremaining: 806ms\n",
      "393:\tlearn: 0.9370107\ttotal: 523ms\tremaining: 804ms\n",
      "394:\tlearn: 0.9349383\ttotal: 524ms\tremaining: 802ms\n",
      "395:\tlearn: 0.9335367\ttotal: 525ms\tremaining: 801ms\n",
      "396:\tlearn: 0.9313906\ttotal: 526ms\tremaining: 799ms\n",
      "397:\tlearn: 0.9299696\ttotal: 527ms\tremaining: 797ms\n",
      "398:\tlearn: 0.9269844\ttotal: 528ms\tremaining: 796ms\n",
      "399:\tlearn: 0.9261312\ttotal: 529ms\tremaining: 794ms\n",
      "400:\tlearn: 0.9245332\ttotal: 531ms\tremaining: 793ms\n",
      "401:\tlearn: 0.9234212\ttotal: 532ms\tremaining: 791ms\n",
      "402:\tlearn: 0.9211270\ttotal: 533ms\tremaining: 789ms\n",
      "403:\tlearn: 0.9199871\ttotal: 534ms\tremaining: 788ms\n",
      "404:\tlearn: 0.9190561\ttotal: 535ms\tremaining: 786ms\n",
      "405:\tlearn: 0.9174131\ttotal: 536ms\tremaining: 784ms\n",
      "406:\tlearn: 0.9156183\ttotal: 537ms\tremaining: 783ms\n",
      "407:\tlearn: 0.9139594\ttotal: 538ms\tremaining: 781ms\n",
      "408:\tlearn: 0.9118857\ttotal: 539ms\tremaining: 779ms\n",
      "409:\tlearn: 0.9105812\ttotal: 540ms\tremaining: 778ms\n",
      "410:\tlearn: 0.9076252\ttotal: 541ms\tremaining: 776ms\n",
      "411:\tlearn: 0.9063191\ttotal: 543ms\tremaining: 774ms\n",
      "412:\tlearn: 0.9052149\ttotal: 544ms\tremaining: 773ms\n",
      "413:\tlearn: 0.9024242\ttotal: 545ms\tremaining: 772ms\n",
      "414:\tlearn: 0.9006831\ttotal: 546ms\tremaining: 770ms\n",
      "415:\tlearn: 0.8991580\ttotal: 547ms\tremaining: 768ms\n",
      "416:\tlearn: 0.8984230\ttotal: 548ms\tremaining: 766ms\n",
      "417:\tlearn: 0.8967499\ttotal: 549ms\tremaining: 765ms\n",
      "418:\tlearn: 0.8960397\ttotal: 551ms\tremaining: 763ms\n",
      "419:\tlearn: 0.8945374\ttotal: 552ms\tremaining: 762ms\n",
      "420:\tlearn: 0.8917760\ttotal: 553ms\tremaining: 761ms\n",
      "421:\tlearn: 0.8907065\ttotal: 554ms\tremaining: 759ms\n",
      "422:\tlearn: 0.8894449\ttotal: 556ms\tremaining: 758ms\n",
      "423:\tlearn: 0.8876484\ttotal: 557ms\tremaining: 756ms\n",
      "424:\tlearn: 0.8860668\ttotal: 558ms\tremaining: 755ms\n",
      "425:\tlearn: 0.8838389\ttotal: 559ms\tremaining: 753ms\n",
      "426:\tlearn: 0.8824292\ttotal: 560ms\tremaining: 752ms\n",
      "427:\tlearn: 0.8804639\ttotal: 561ms\tremaining: 750ms\n",
      "428:\tlearn: 0.8779654\ttotal: 563ms\tremaining: 749ms\n",
      "429:\tlearn: 0.8757038\ttotal: 564ms\tremaining: 748ms\n",
      "430:\tlearn: 0.8745309\ttotal: 565ms\tremaining: 746ms\n",
      "431:\tlearn: 0.8732258\ttotal: 566ms\tremaining: 744ms\n",
      "432:\tlearn: 0.8717581\ttotal: 567ms\tremaining: 743ms\n",
      "433:\tlearn: 0.8707018\ttotal: 568ms\tremaining: 741ms\n",
      "434:\tlearn: 0.8692369\ttotal: 570ms\tremaining: 741ms\n",
      "435:\tlearn: 0.8676646\ttotal: 571ms\tremaining: 739ms\n",
      "436:\tlearn: 0.8666430\ttotal: 573ms\tremaining: 738ms\n",
      "437:\tlearn: 0.8652930\ttotal: 574ms\tremaining: 736ms\n",
      "438:\tlearn: 0.8642548\ttotal: 575ms\tremaining: 734ms\n",
      "439:\tlearn: 0.8620212\ttotal: 576ms\tremaining: 733ms\n",
      "440:\tlearn: 0.8606744\ttotal: 577ms\tremaining: 731ms\n",
      "441:\tlearn: 0.8597402\ttotal: 578ms\tremaining: 729ms\n",
      "442:\tlearn: 0.8576644\ttotal: 579ms\tremaining: 728ms\n",
      "443:\tlearn: 0.8564519\ttotal: 580ms\tremaining: 726ms\n",
      "444:\tlearn: 0.8551633\ttotal: 581ms\tremaining: 725ms\n",
      "445:\tlearn: 0.8529749\ttotal: 582ms\tremaining: 723ms\n",
      "446:\tlearn: 0.8515572\ttotal: 583ms\tremaining: 722ms\n",
      "447:\tlearn: 0.8502541\ttotal: 584ms\tremaining: 720ms\n",
      "448:\tlearn: 0.8489304\ttotal: 586ms\tremaining: 719ms\n",
      "449:\tlearn: 0.8478956\ttotal: 587ms\tremaining: 717ms\n",
      "450:\tlearn: 0.8473659\ttotal: 588ms\tremaining: 715ms\n",
      "451:\tlearn: 0.8465728\ttotal: 589ms\tremaining: 714ms\n",
      "452:\tlearn: 0.8432830\ttotal: 590ms\tremaining: 712ms\n",
      "453:\tlearn: 0.8411816\ttotal: 592ms\tremaining: 711ms\n",
      "454:\tlearn: 0.8393031\ttotal: 593ms\tremaining: 710ms\n",
      "455:\tlearn: 0.8381073\ttotal: 594ms\tremaining: 708ms\n",
      "456:\tlearn: 0.8362664\ttotal: 595ms\tremaining: 707ms\n",
      "457:\tlearn: 0.8350418\ttotal: 596ms\tremaining: 706ms\n",
      "458:\tlearn: 0.8339923\ttotal: 597ms\tremaining: 704ms\n",
      "459:\tlearn: 0.8324868\ttotal: 598ms\tremaining: 702ms\n",
      "460:\tlearn: 0.8309753\ttotal: 599ms\tremaining: 701ms\n",
      "461:\tlearn: 0.8295342\ttotal: 600ms\tremaining: 699ms\n",
      "462:\tlearn: 0.8286737\ttotal: 602ms\tremaining: 698ms\n",
      "463:\tlearn: 0.8271136\ttotal: 603ms\tremaining: 696ms\n",
      "464:\tlearn: 0.8264382\ttotal: 604ms\tremaining: 695ms\n",
      "465:\tlearn: 0.8253837\ttotal: 605ms\tremaining: 693ms\n",
      "466:\tlearn: 0.8242994\ttotal: 606ms\tremaining: 692ms\n",
      "467:\tlearn: 0.8230347\ttotal: 607ms\tremaining: 690ms\n",
      "468:\tlearn: 0.8208909\ttotal: 609ms\tremaining: 689ms\n",
      "469:\tlearn: 0.8197097\ttotal: 610ms\tremaining: 688ms\n",
      "470:\tlearn: 0.8193246\ttotal: 611ms\tremaining: 686ms\n",
      "471:\tlearn: 0.8175444\ttotal: 613ms\tremaining: 685ms\n",
      "472:\tlearn: 0.8168805\ttotal: 614ms\tremaining: 684ms\n",
      "473:\tlearn: 0.8153984\ttotal: 615ms\tremaining: 682ms\n",
      "474:\tlearn: 0.8142924\ttotal: 616ms\tremaining: 681ms\n",
      "475:\tlearn: 0.8133840\ttotal: 617ms\tremaining: 679ms\n",
      "476:\tlearn: 0.8120892\ttotal: 618ms\tremaining: 678ms\n",
      "477:\tlearn: 0.8104877\ttotal: 619ms\tremaining: 676ms\n",
      "478:\tlearn: 0.8092111\ttotal: 620ms\tremaining: 675ms\n",
      "479:\tlearn: 0.8080484\ttotal: 622ms\tremaining: 673ms\n",
      "480:\tlearn: 0.8071291\ttotal: 623ms\tremaining: 672ms\n",
      "481:\tlearn: 0.8059874\ttotal: 624ms\tremaining: 670ms\n",
      "482:\tlearn: 0.8036922\ttotal: 625ms\tremaining: 669ms\n",
      "483:\tlearn: 0.8028769\ttotal: 626ms\tremaining: 667ms\n",
      "484:\tlearn: 0.8017890\ttotal: 627ms\tremaining: 666ms\n",
      "485:\tlearn: 0.8008935\ttotal: 628ms\tremaining: 664ms\n",
      "486:\tlearn: 0.7997775\ttotal: 629ms\tremaining: 663ms\n",
      "487:\tlearn: 0.7981566\ttotal: 630ms\tremaining: 661ms\n",
      "488:\tlearn: 0.7971898\ttotal: 631ms\tremaining: 659ms\n",
      "489:\tlearn: 0.7959901\ttotal: 632ms\tremaining: 658ms\n",
      "490:\tlearn: 0.7953625\ttotal: 633ms\tremaining: 656ms\n",
      "491:\tlearn: 0.7938198\ttotal: 634ms\tremaining: 655ms\n",
      "492:\tlearn: 0.7932567\ttotal: 635ms\tremaining: 653ms\n",
      "493:\tlearn: 0.7921584\ttotal: 636ms\tremaining: 652ms\n",
      "494:\tlearn: 0.7907637\ttotal: 638ms\tremaining: 650ms\n",
      "495:\tlearn: 0.7894976\ttotal: 639ms\tremaining: 649ms\n",
      "496:\tlearn: 0.7877220\ttotal: 640ms\tremaining: 647ms\n",
      "497:\tlearn: 0.7865991\ttotal: 641ms\tremaining: 646ms\n",
      "498:\tlearn: 0.7846386\ttotal: 642ms\tremaining: 644ms\n",
      "499:\tlearn: 0.7835852\ttotal: 643ms\tremaining: 643ms\n",
      "500:\tlearn: 0.7815904\ttotal: 644ms\tremaining: 641ms\n",
      "501:\tlearn: 0.7802766\ttotal: 646ms\tremaining: 640ms\n",
      "502:\tlearn: 0.7790046\ttotal: 647ms\tremaining: 639ms\n",
      "503:\tlearn: 0.7780482\ttotal: 648ms\tremaining: 638ms\n",
      "504:\tlearn: 0.7766245\ttotal: 649ms\tremaining: 636ms\n",
      "505:\tlearn: 0.7756527\ttotal: 650ms\tremaining: 635ms\n",
      "506:\tlearn: 0.7743437\ttotal: 651ms\tremaining: 633ms\n",
      "507:\tlearn: 0.7734010\ttotal: 652ms\tremaining: 632ms\n",
      "508:\tlearn: 0.7714718\ttotal: 654ms\tremaining: 630ms\n",
      "509:\tlearn: 0.7708770\ttotal: 655ms\tremaining: 629ms\n",
      "510:\tlearn: 0.7698725\ttotal: 656ms\tremaining: 627ms\n",
      "511:\tlearn: 0.7685540\ttotal: 657ms\tremaining: 626ms\n",
      "512:\tlearn: 0.7679631\ttotal: 658ms\tremaining: 625ms\n",
      "513:\tlearn: 0.7670040\ttotal: 659ms\tremaining: 623ms\n",
      "514:\tlearn: 0.7658926\ttotal: 660ms\tremaining: 622ms\n",
      "515:\tlearn: 0.7642710\ttotal: 661ms\tremaining: 620ms\n",
      "516:\tlearn: 0.7631565\ttotal: 662ms\tremaining: 619ms\n",
      "517:\tlearn: 0.7623107\ttotal: 663ms\tremaining: 617ms\n",
      "518:\tlearn: 0.7611395\ttotal: 664ms\tremaining: 616ms\n",
      "519:\tlearn: 0.7606180\ttotal: 666ms\tremaining: 614ms\n",
      "520:\tlearn: 0.7595435\ttotal: 667ms\tremaining: 613ms\n",
      "521:\tlearn: 0.7586515\ttotal: 668ms\tremaining: 612ms\n",
      "522:\tlearn: 0.7577723\ttotal: 669ms\tremaining: 610ms\n",
      "523:\tlearn: 0.7566855\ttotal: 670ms\tremaining: 609ms\n",
      "524:\tlearn: 0.7555087\ttotal: 672ms\tremaining: 608ms\n",
      "525:\tlearn: 0.7543963\ttotal: 673ms\tremaining: 606ms\n",
      "526:\tlearn: 0.7527876\ttotal: 674ms\tremaining: 605ms\n",
      "527:\tlearn: 0.7522324\ttotal: 675ms\tremaining: 603ms\n",
      "528:\tlearn: 0.7512169\ttotal: 676ms\tremaining: 602ms\n",
      "529:\tlearn: 0.7503085\ttotal: 677ms\tremaining: 601ms\n",
      "530:\tlearn: 0.7496045\ttotal: 678ms\tremaining: 599ms\n",
      "531:\tlearn: 0.7480117\ttotal: 680ms\tremaining: 598ms\n",
      "532:\tlearn: 0.7474401\ttotal: 681ms\tremaining: 596ms\n",
      "533:\tlearn: 0.7456795\ttotal: 682ms\tremaining: 595ms\n",
      "534:\tlearn: 0.7449976\ttotal: 683ms\tremaining: 594ms\n",
      "535:\tlearn: 0.7441265\ttotal: 684ms\tremaining: 592ms\n",
      "536:\tlearn: 0.7426208\ttotal: 685ms\tremaining: 591ms\n",
      "537:\tlearn: 0.7418120\ttotal: 686ms\tremaining: 589ms\n",
      "538:\tlearn: 0.7408526\ttotal: 688ms\tremaining: 588ms\n",
      "539:\tlearn: 0.7402762\ttotal: 689ms\tremaining: 587ms\n",
      "540:\tlearn: 0.7385297\ttotal: 690ms\tremaining: 585ms\n",
      "541:\tlearn: 0.7378294\ttotal: 691ms\tremaining: 584ms\n",
      "542:\tlearn: 0.7364110\ttotal: 692ms\tremaining: 582ms\n",
      "543:\tlearn: 0.7347415\ttotal: 693ms\tremaining: 581ms\n",
      "544:\tlearn: 0.7341495\ttotal: 694ms\tremaining: 580ms\n",
      "545:\tlearn: 0.7330941\ttotal: 695ms\tremaining: 578ms\n",
      "546:\tlearn: 0.7318523\ttotal: 697ms\tremaining: 577ms\n",
      "547:\tlearn: 0.7310535\ttotal: 698ms\tremaining: 575ms\n",
      "548:\tlearn: 0.7294540\ttotal: 699ms\tremaining: 574ms\n",
      "549:\tlearn: 0.7283745\ttotal: 700ms\tremaining: 573ms\n",
      "550:\tlearn: 0.7269424\ttotal: 701ms\tremaining: 571ms\n",
      "551:\tlearn: 0.7257176\ttotal: 702ms\tremaining: 570ms\n",
      "552:\tlearn: 0.7250549\ttotal: 704ms\tremaining: 569ms\n",
      "553:\tlearn: 0.7241454\ttotal: 705ms\tremaining: 567ms\n",
      "554:\tlearn: 0.7232505\ttotal: 706ms\tremaining: 566ms\n",
      "555:\tlearn: 0.7229105\ttotal: 707ms\tremaining: 564ms\n",
      "556:\tlearn: 0.7223503\ttotal: 708ms\tremaining: 563ms\n",
      "557:\tlearn: 0.7217360\ttotal: 709ms\tremaining: 562ms\n",
      "558:\tlearn: 0.7211026\ttotal: 710ms\tremaining: 560ms\n",
      "559:\tlearn: 0.7206054\ttotal: 711ms\tremaining: 559ms\n",
      "560:\tlearn: 0.7198976\ttotal: 713ms\tremaining: 558ms\n",
      "561:\tlearn: 0.7189329\ttotal: 714ms\tremaining: 557ms\n",
      "562:\tlearn: 0.7179165\ttotal: 716ms\tremaining: 555ms\n",
      "563:\tlearn: 0.7160135\ttotal: 717ms\tremaining: 554ms\n",
      "564:\tlearn: 0.7151573\ttotal: 718ms\tremaining: 553ms\n",
      "565:\tlearn: 0.7144303\ttotal: 719ms\tremaining: 551ms\n",
      "566:\tlearn: 0.7127084\ttotal: 721ms\tremaining: 550ms\n",
      "567:\tlearn: 0.7117869\ttotal: 722ms\tremaining: 549ms\n",
      "568:\tlearn: 0.7114373\ttotal: 723ms\tremaining: 548ms\n",
      "569:\tlearn: 0.7110679\ttotal: 725ms\tremaining: 547ms\n",
      "570:\tlearn: 0.7094440\ttotal: 726ms\tremaining: 546ms\n",
      "571:\tlearn: 0.7088445\ttotal: 728ms\tremaining: 545ms\n",
      "572:\tlearn: 0.7082412\ttotal: 729ms\tremaining: 544ms\n",
      "573:\tlearn: 0.7074306\ttotal: 731ms\tremaining: 542ms\n",
      "574:\tlearn: 0.7068094\ttotal: 732ms\tremaining: 541ms\n",
      "575:\tlearn: 0.7050882\ttotal: 733ms\tremaining: 539ms\n",
      "576:\tlearn: 0.7043625\ttotal: 734ms\tremaining: 538ms\n",
      "577:\tlearn: 0.7035245\ttotal: 735ms\tremaining: 537ms\n",
      "578:\tlearn: 0.7029508\ttotal: 736ms\tremaining: 535ms\n",
      "579:\tlearn: 0.7022799\ttotal: 737ms\tremaining: 534ms\n",
      "580:\tlearn: 0.7007630\ttotal: 738ms\tremaining: 532ms\n",
      "581:\tlearn: 0.7000352\ttotal: 739ms\tremaining: 531ms\n",
      "582:\tlearn: 0.6995007\ttotal: 740ms\tremaining: 530ms\n",
      "583:\tlearn: 0.6985409\ttotal: 741ms\tremaining: 528ms\n",
      "584:\tlearn: 0.6973589\ttotal: 743ms\tremaining: 527ms\n",
      "585:\tlearn: 0.6964330\ttotal: 744ms\tremaining: 525ms\n",
      "586:\tlearn: 0.6958167\ttotal: 745ms\tremaining: 524ms\n",
      "587:\tlearn: 0.6950677\ttotal: 746ms\tremaining: 523ms\n",
      "588:\tlearn: 0.6945399\ttotal: 747ms\tremaining: 521ms\n",
      "589:\tlearn: 0.6940501\ttotal: 748ms\tremaining: 520ms\n",
      "590:\tlearn: 0.6926737\ttotal: 749ms\tremaining: 518ms\n",
      "591:\tlearn: 0.6918675\ttotal: 750ms\tremaining: 517ms\n",
      "592:\tlearn: 0.6911807\ttotal: 751ms\tremaining: 516ms\n",
      "593:\tlearn: 0.6905451\ttotal: 752ms\tremaining: 514ms\n",
      "594:\tlearn: 0.6901614\ttotal: 753ms\tremaining: 513ms\n",
      "595:\tlearn: 0.6897171\ttotal: 754ms\tremaining: 511ms\n",
      "596:\tlearn: 0.6877535\ttotal: 756ms\tremaining: 510ms\n",
      "597:\tlearn: 0.6868649\ttotal: 757ms\tremaining: 509ms\n",
      "598:\tlearn: 0.6854408\ttotal: 758ms\tremaining: 507ms\n",
      "599:\tlearn: 0.6844263\ttotal: 759ms\tremaining: 506ms\n",
      "600:\tlearn: 0.6834885\ttotal: 760ms\tremaining: 505ms\n",
      "601:\tlearn: 0.6828513\ttotal: 761ms\tremaining: 503ms\n",
      "602:\tlearn: 0.6819069\ttotal: 762ms\tremaining: 502ms\n",
      "603:\tlearn: 0.6810920\ttotal: 763ms\tremaining: 500ms\n",
      "604:\tlearn: 0.6805504\ttotal: 764ms\tremaining: 499ms\n",
      "605:\tlearn: 0.6792079\ttotal: 765ms\tremaining: 498ms\n",
      "606:\tlearn: 0.6783604\ttotal: 767ms\tremaining: 496ms\n",
      "607:\tlearn: 0.6769987\ttotal: 768ms\tremaining: 495ms\n",
      "608:\tlearn: 0.6758706\ttotal: 770ms\tremaining: 494ms\n",
      "609:\tlearn: 0.6745348\ttotal: 771ms\tremaining: 493ms\n",
      "610:\tlearn: 0.6735962\ttotal: 772ms\tremaining: 492ms\n",
      "611:\tlearn: 0.6723527\ttotal: 773ms\tremaining: 490ms\n",
      "612:\tlearn: 0.6715386\ttotal: 775ms\tremaining: 489ms\n",
      "613:\tlearn: 0.6706660\ttotal: 776ms\tremaining: 488ms\n",
      "614:\tlearn: 0.6699894\ttotal: 778ms\tremaining: 487ms\n",
      "615:\tlearn: 0.6690706\ttotal: 779ms\tremaining: 486ms\n",
      "616:\tlearn: 0.6680815\ttotal: 781ms\tremaining: 485ms\n",
      "617:\tlearn: 0.6672513\ttotal: 782ms\tremaining: 484ms\n",
      "618:\tlearn: 0.6663851\ttotal: 783ms\tremaining: 482ms\n",
      "619:\tlearn: 0.6655856\ttotal: 784ms\tremaining: 481ms\n",
      "620:\tlearn: 0.6644061\ttotal: 786ms\tremaining: 480ms\n",
      "621:\tlearn: 0.6637233\ttotal: 787ms\tremaining: 478ms\n",
      "622:\tlearn: 0.6628862\ttotal: 788ms\tremaining: 477ms\n",
      "623:\tlearn: 0.6615080\ttotal: 789ms\tremaining: 476ms\n",
      "624:\tlearn: 0.6608363\ttotal: 791ms\tremaining: 475ms\n",
      "625:\tlearn: 0.6596345\ttotal: 792ms\tremaining: 473ms\n",
      "626:\tlearn: 0.6589825\ttotal: 793ms\tremaining: 472ms\n",
      "627:\tlearn: 0.6583349\ttotal: 794ms\tremaining: 470ms\n",
      "628:\tlearn: 0.6574542\ttotal: 796ms\tremaining: 469ms\n",
      "629:\tlearn: 0.6570721\ttotal: 797ms\tremaining: 468ms\n",
      "630:\tlearn: 0.6563253\ttotal: 798ms\tremaining: 466ms\n",
      "631:\tlearn: 0.6558162\ttotal: 799ms\tremaining: 465ms\n",
      "632:\tlearn: 0.6554636\ttotal: 800ms\tremaining: 464ms\n",
      "633:\tlearn: 0.6549780\ttotal: 801ms\tremaining: 463ms\n",
      "634:\tlearn: 0.6543984\ttotal: 802ms\tremaining: 461ms\n",
      "635:\tlearn: 0.6540464\ttotal: 803ms\tremaining: 460ms\n",
      "636:\tlearn: 0.6533597\ttotal: 805ms\tremaining: 459ms\n",
      "637:\tlearn: 0.6530031\ttotal: 806ms\tremaining: 457ms\n",
      "638:\tlearn: 0.6524015\ttotal: 822ms\tremaining: 464ms\n",
      "639:\tlearn: 0.6518623\ttotal: 834ms\tremaining: 469ms\n",
      "640:\tlearn: 0.6508429\ttotal: 835ms\tremaining: 468ms\n",
      "641:\tlearn: 0.6502260\ttotal: 837ms\tremaining: 467ms\n",
      "642:\tlearn: 0.6494206\ttotal: 838ms\tremaining: 465ms\n",
      "643:\tlearn: 0.6487856\ttotal: 839ms\tremaining: 464ms\n",
      "644:\tlearn: 0.6480516\ttotal: 842ms\tremaining: 463ms\n",
      "645:\tlearn: 0.6475036\ttotal: 843ms\tremaining: 462ms\n",
      "646:\tlearn: 0.6469624\ttotal: 844ms\tremaining: 460ms\n",
      "647:\tlearn: 0.6463786\ttotal: 845ms\tremaining: 459ms\n",
      "648:\tlearn: 0.6456863\ttotal: 846ms\tremaining: 458ms\n",
      "649:\tlearn: 0.6449293\ttotal: 848ms\tremaining: 457ms\n",
      "650:\tlearn: 0.6443588\ttotal: 849ms\tremaining: 455ms\n",
      "651:\tlearn: 0.6437494\ttotal: 851ms\tremaining: 454ms\n",
      "652:\tlearn: 0.6432980\ttotal: 855ms\tremaining: 454ms\n",
      "653:\tlearn: 0.6419982\ttotal: 856ms\tremaining: 453ms\n",
      "654:\tlearn: 0.6407291\ttotal: 857ms\tremaining: 451ms\n",
      "655:\tlearn: 0.6399237\ttotal: 858ms\tremaining: 450ms\n",
      "656:\tlearn: 0.6395669\ttotal: 860ms\tremaining: 449ms\n",
      "657:\tlearn: 0.6390847\ttotal: 861ms\tremaining: 447ms\n",
      "658:\tlearn: 0.6385248\ttotal: 862ms\tremaining: 446ms\n",
      "659:\tlearn: 0.6377000\ttotal: 863ms\tremaining: 445ms\n",
      "660:\tlearn: 0.6372586\ttotal: 865ms\tremaining: 443ms\n",
      "661:\tlearn: 0.6367515\ttotal: 866ms\tremaining: 442ms\n",
      "662:\tlearn: 0.6358997\ttotal: 867ms\tremaining: 441ms\n",
      "663:\tlearn: 0.6355631\ttotal: 868ms\tremaining: 439ms\n",
      "664:\tlearn: 0.6351366\ttotal: 869ms\tremaining: 438ms\n",
      "665:\tlearn: 0.6346844\ttotal: 871ms\tremaining: 437ms\n",
      "666:\tlearn: 0.6336552\ttotal: 872ms\tremaining: 435ms\n",
      "667:\tlearn: 0.6329794\ttotal: 873ms\tremaining: 434ms\n",
      "668:\tlearn: 0.6323384\ttotal: 875ms\tremaining: 433ms\n",
      "669:\tlearn: 0.6313033\ttotal: 876ms\tremaining: 431ms\n",
      "670:\tlearn: 0.6301989\ttotal: 877ms\tremaining: 430ms\n",
      "671:\tlearn: 0.6288519\ttotal: 878ms\tremaining: 429ms\n",
      "672:\tlearn: 0.6285066\ttotal: 879ms\tremaining: 427ms\n",
      "673:\tlearn: 0.6273591\ttotal: 881ms\tremaining: 426ms\n",
      "674:\tlearn: 0.6267265\ttotal: 882ms\tremaining: 425ms\n",
      "675:\tlearn: 0.6262564\ttotal: 883ms\tremaining: 423ms\n",
      "676:\tlearn: 0.6255762\ttotal: 884ms\tremaining: 422ms\n",
      "677:\tlearn: 0.6249381\ttotal: 886ms\tremaining: 421ms\n",
      "678:\tlearn: 0.6244344\ttotal: 887ms\tremaining: 419ms\n",
      "679:\tlearn: 0.6239467\ttotal: 888ms\tremaining: 418ms\n",
      "680:\tlearn: 0.6232996\ttotal: 889ms\tremaining: 416ms\n",
      "681:\tlearn: 0.6227364\ttotal: 890ms\tremaining: 415ms\n",
      "682:\tlearn: 0.6220015\ttotal: 891ms\tremaining: 414ms\n",
      "683:\tlearn: 0.6216534\ttotal: 893ms\tremaining: 412ms\n",
      "684:\tlearn: 0.6210117\ttotal: 894ms\tremaining: 411ms\n",
      "685:\tlearn: 0.6204845\ttotal: 895ms\tremaining: 410ms\n",
      "686:\tlearn: 0.6199403\ttotal: 896ms\tremaining: 408ms\n",
      "687:\tlearn: 0.6194696\ttotal: 898ms\tremaining: 407ms\n",
      "688:\tlearn: 0.6190415\ttotal: 899ms\tremaining: 406ms\n",
      "689:\tlearn: 0.6184860\ttotal: 900ms\tremaining: 404ms\n",
      "690:\tlearn: 0.6177093\ttotal: 901ms\tremaining: 403ms\n",
      "691:\tlearn: 0.6168838\ttotal: 902ms\tremaining: 402ms\n",
      "692:\tlearn: 0.6163521\ttotal: 904ms\tremaining: 400ms\n",
      "693:\tlearn: 0.6160449\ttotal: 905ms\tremaining: 399ms\n",
      "694:\tlearn: 0.6150755\ttotal: 906ms\tremaining: 398ms\n",
      "695:\tlearn: 0.6145793\ttotal: 907ms\tremaining: 396ms\n",
      "696:\tlearn: 0.6142474\ttotal: 908ms\tremaining: 395ms\n",
      "697:\tlearn: 0.6132789\ttotal: 910ms\tremaining: 394ms\n",
      "698:\tlearn: 0.6127449\ttotal: 911ms\tremaining: 392ms\n",
      "699:\tlearn: 0.6118915\ttotal: 912ms\tremaining: 391ms\n",
      "700:\tlearn: 0.6112139\ttotal: 913ms\tremaining: 390ms\n",
      "701:\tlearn: 0.6103478\ttotal: 914ms\tremaining: 388ms\n",
      "702:\tlearn: 0.6098858\ttotal: 915ms\tremaining: 387ms\n",
      "703:\tlearn: 0.6091461\ttotal: 917ms\tremaining: 385ms\n",
      "704:\tlearn: 0.6087951\ttotal: 918ms\tremaining: 384ms\n",
      "705:\tlearn: 0.6080964\ttotal: 919ms\tremaining: 383ms\n",
      "706:\tlearn: 0.6075181\ttotal: 920ms\tremaining: 381ms\n",
      "707:\tlearn: 0.6072625\ttotal: 921ms\tremaining: 380ms\n",
      "708:\tlearn: 0.6069080\ttotal: 923ms\tremaining: 379ms\n",
      "709:\tlearn: 0.6059485\ttotal: 924ms\tremaining: 378ms\n",
      "710:\tlearn: 0.6055033\ttotal: 925ms\tremaining: 376ms\n",
      "711:\tlearn: 0.6048200\ttotal: 927ms\tremaining: 375ms\n",
      "712:\tlearn: 0.6043155\ttotal: 928ms\tremaining: 373ms\n",
      "713:\tlearn: 0.6039439\ttotal: 929ms\tremaining: 372ms\n",
      "714:\tlearn: 0.6035658\ttotal: 930ms\tremaining: 371ms\n",
      "715:\tlearn: 0.6030463\ttotal: 931ms\tremaining: 369ms\n",
      "716:\tlearn: 0.6024617\ttotal: 932ms\tremaining: 368ms\n",
      "717:\tlearn: 0.6017286\ttotal: 933ms\tremaining: 367ms\n",
      "718:\tlearn: 0.6013288\ttotal: 934ms\tremaining: 365ms\n",
      "719:\tlearn: 0.6002590\ttotal: 936ms\tremaining: 364ms\n",
      "720:\tlearn: 0.5997046\ttotal: 937ms\tremaining: 362ms\n",
      "721:\tlearn: 0.5993453\ttotal: 938ms\tremaining: 361ms\n",
      "722:\tlearn: 0.5987885\ttotal: 939ms\tremaining: 360ms\n",
      "723:\tlearn: 0.5980236\ttotal: 940ms\tremaining: 358ms\n",
      "724:\tlearn: 0.5975339\ttotal: 941ms\tremaining: 357ms\n",
      "725:\tlearn: 0.5969465\ttotal: 942ms\tremaining: 356ms\n",
      "726:\tlearn: 0.5961074\ttotal: 943ms\tremaining: 354ms\n",
      "727:\tlearn: 0.5954211\ttotal: 945ms\tremaining: 353ms\n",
      "728:\tlearn: 0.5949583\ttotal: 946ms\tremaining: 352ms\n",
      "729:\tlearn: 0.5946909\ttotal: 947ms\tremaining: 350ms\n",
      "730:\tlearn: 0.5943492\ttotal: 948ms\tremaining: 349ms\n",
      "731:\tlearn: 0.5938950\ttotal: 949ms\tremaining: 348ms\n",
      "732:\tlearn: 0.5935759\ttotal: 950ms\tremaining: 346ms\n",
      "733:\tlearn: 0.5925312\ttotal: 952ms\tremaining: 345ms\n",
      "734:\tlearn: 0.5921973\ttotal: 953ms\tremaining: 343ms\n",
      "735:\tlearn: 0.5911969\ttotal: 954ms\tremaining: 342ms\n",
      "736:\tlearn: 0.5904093\ttotal: 955ms\tremaining: 341ms\n",
      "737:\tlearn: 0.5901115\ttotal: 956ms\tremaining: 339ms\n",
      "738:\tlearn: 0.5894615\ttotal: 957ms\tremaining: 338ms\n",
      "739:\tlearn: 0.5888413\ttotal: 958ms\tremaining: 337ms\n",
      "740:\tlearn: 0.5884723\ttotal: 959ms\tremaining: 335ms\n",
      "741:\tlearn: 0.5878735\ttotal: 960ms\tremaining: 334ms\n",
      "742:\tlearn: 0.5876042\ttotal: 961ms\tremaining: 332ms\n",
      "743:\tlearn: 0.5870444\ttotal: 962ms\tremaining: 331ms\n",
      "744:\tlearn: 0.5863824\ttotal: 963ms\tremaining: 330ms\n",
      "745:\tlearn: 0.5860482\ttotal: 965ms\tremaining: 329ms\n",
      "746:\tlearn: 0.5855276\ttotal: 967ms\tremaining: 327ms\n",
      "747:\tlearn: 0.5850525\ttotal: 968ms\tremaining: 326ms\n",
      "748:\tlearn: 0.5846301\ttotal: 969ms\tremaining: 325ms\n",
      "749:\tlearn: 0.5841569\ttotal: 970ms\tremaining: 323ms\n",
      "750:\tlearn: 0.5836843\ttotal: 971ms\tremaining: 322ms\n",
      "751:\tlearn: 0.5830713\ttotal: 973ms\tremaining: 321ms\n",
      "752:\tlearn: 0.5825925\ttotal: 974ms\tremaining: 320ms\n",
      "753:\tlearn: 0.5823329\ttotal: 975ms\tremaining: 318ms\n",
      "754:\tlearn: 0.5818340\ttotal: 976ms\tremaining: 317ms\n",
      "755:\tlearn: 0.5815497\ttotal: 977ms\tremaining: 315ms\n",
      "756:\tlearn: 0.5809340\ttotal: 978ms\tremaining: 314ms\n",
      "757:\tlearn: 0.5804224\ttotal: 980ms\tremaining: 313ms\n",
      "758:\tlearn: 0.5800002\ttotal: 981ms\tremaining: 311ms\n",
      "759:\tlearn: 0.5796034\ttotal: 982ms\tremaining: 310ms\n",
      "760:\tlearn: 0.5793441\ttotal: 984ms\tremaining: 309ms\n",
      "761:\tlearn: 0.5790045\ttotal: 985ms\tremaining: 308ms\n",
      "762:\tlearn: 0.5787306\ttotal: 986ms\tremaining: 306ms\n",
      "763:\tlearn: 0.5784765\ttotal: 988ms\tremaining: 305ms\n",
      "764:\tlearn: 0.5781892\ttotal: 989ms\tremaining: 304ms\n",
      "765:\tlearn: 0.5774569\ttotal: 990ms\tremaining: 302ms\n",
      "766:\tlearn: 0.5772553\ttotal: 991ms\tremaining: 301ms\n",
      "767:\tlearn: 0.5769047\ttotal: 992ms\tremaining: 300ms\n",
      "768:\tlearn: 0.5763825\ttotal: 993ms\tremaining: 298ms\n",
      "769:\tlearn: 0.5758324\ttotal: 995ms\tremaining: 297ms\n",
      "770:\tlearn: 0.5754747\ttotal: 996ms\tremaining: 296ms\n",
      "771:\tlearn: 0.5750228\ttotal: 997ms\tremaining: 294ms\n",
      "772:\tlearn: 0.5747827\ttotal: 998ms\tremaining: 293ms\n",
      "773:\tlearn: 0.5739467\ttotal: 999ms\tremaining: 292ms\n",
      "774:\tlearn: 0.5735203\ttotal: 1000ms\tremaining: 290ms\n",
      "775:\tlearn: 0.5731665\ttotal: 1s\tremaining: 289ms\n",
      "776:\tlearn: 0.5729457\ttotal: 1s\tremaining: 288ms\n",
      "777:\tlearn: 0.5726599\ttotal: 1s\tremaining: 286ms\n",
      "778:\tlearn: 0.5725841\ttotal: 1s\tremaining: 285ms\n",
      "779:\tlearn: 0.5724104\ttotal: 1s\tremaining: 284ms\n",
      "780:\tlearn: 0.5717570\ttotal: 1.01s\tremaining: 282ms\n",
      "781:\tlearn: 0.5713146\ttotal: 1.01s\tremaining: 281ms\n",
      "782:\tlearn: 0.5710012\ttotal: 1.01s\tremaining: 280ms\n",
      "783:\tlearn: 0.5703300\ttotal: 1.01s\tremaining: 278ms\n",
      "784:\tlearn: 0.5698327\ttotal: 1.01s\tremaining: 277ms\n",
      "785:\tlearn: 0.5696434\ttotal: 1.01s\tremaining: 276ms\n",
      "786:\tlearn: 0.5694383\ttotal: 1.01s\tremaining: 274ms\n",
      "787:\tlearn: 0.5691843\ttotal: 1.01s\tremaining: 273ms\n",
      "788:\tlearn: 0.5688683\ttotal: 1.02s\tremaining: 272ms\n",
      "789:\tlearn: 0.5682083\ttotal: 1.02s\tremaining: 270ms\n",
      "790:\tlearn: 0.5674717\ttotal: 1.02s\tremaining: 269ms\n",
      "791:\tlearn: 0.5670854\ttotal: 1.02s\tremaining: 268ms\n",
      "792:\tlearn: 0.5665338\ttotal: 1.02s\tremaining: 266ms\n",
      "793:\tlearn: 0.5664111\ttotal: 1.02s\tremaining: 265ms\n",
      "794:\tlearn: 0.5661518\ttotal: 1.02s\tremaining: 264ms\n",
      "795:\tlearn: 0.5657667\ttotal: 1.02s\tremaining: 262ms\n",
      "796:\tlearn: 0.5652086\ttotal: 1.02s\tremaining: 261ms\n",
      "797:\tlearn: 0.5646081\ttotal: 1.03s\tremaining: 260ms\n",
      "798:\tlearn: 0.5638667\ttotal: 1.03s\tremaining: 258ms\n",
      "799:\tlearn: 0.5635677\ttotal: 1.03s\tremaining: 257ms\n",
      "800:\tlearn: 0.5632556\ttotal: 1.03s\tremaining: 256ms\n",
      "801:\tlearn: 0.5629275\ttotal: 1.03s\tremaining: 255ms\n",
      "802:\tlearn: 0.5626753\ttotal: 1.03s\tremaining: 253ms\n",
      "803:\tlearn: 0.5622774\ttotal: 1.03s\tremaining: 252ms\n",
      "804:\tlearn: 0.5618138\ttotal: 1.03s\tremaining: 251ms\n",
      "805:\tlearn: 0.5611531\ttotal: 1.04s\tremaining: 249ms\n",
      "806:\tlearn: 0.5606551\ttotal: 1.04s\tremaining: 248ms\n",
      "807:\tlearn: 0.5602399\ttotal: 1.04s\tremaining: 247ms\n",
      "808:\tlearn: 0.5597854\ttotal: 1.04s\tremaining: 246ms\n",
      "809:\tlearn: 0.5587640\ttotal: 1.04s\tremaining: 244ms\n",
      "810:\tlearn: 0.5584332\ttotal: 1.04s\tremaining: 243ms\n",
      "811:\tlearn: 0.5578193\ttotal: 1.04s\tremaining: 242ms\n",
      "812:\tlearn: 0.5572070\ttotal: 1.04s\tremaining: 240ms\n",
      "813:\tlearn: 0.5568827\ttotal: 1.04s\tremaining: 239ms\n",
      "814:\tlearn: 0.5565016\ttotal: 1.05s\tremaining: 238ms\n",
      "815:\tlearn: 0.5560939\ttotal: 1.05s\tremaining: 236ms\n",
      "816:\tlearn: 0.5557296\ttotal: 1.05s\tremaining: 235ms\n",
      "817:\tlearn: 0.5556356\ttotal: 1.05s\tremaining: 234ms\n",
      "818:\tlearn: 0.5552088\ttotal: 1.05s\tremaining: 233ms\n",
      "819:\tlearn: 0.5545411\ttotal: 1.05s\tremaining: 231ms\n",
      "820:\tlearn: 0.5539337\ttotal: 1.05s\tremaining: 230ms\n",
      "821:\tlearn: 0.5535349\ttotal: 1.05s\tremaining: 229ms\n",
      "822:\tlearn: 0.5531122\ttotal: 1.06s\tremaining: 227ms\n",
      "823:\tlearn: 0.5525312\ttotal: 1.06s\tremaining: 226ms\n",
      "824:\tlearn: 0.5518938\ttotal: 1.06s\tremaining: 225ms\n",
      "825:\tlearn: 0.5518032\ttotal: 1.06s\tremaining: 223ms\n",
      "826:\tlearn: 0.5513347\ttotal: 1.06s\tremaining: 222ms\n",
      "827:\tlearn: 0.5510196\ttotal: 1.06s\tremaining: 221ms\n",
      "828:\tlearn: 0.5503125\ttotal: 1.06s\tremaining: 219ms\n",
      "829:\tlearn: 0.5497361\ttotal: 1.06s\tremaining: 218ms\n",
      "830:\tlearn: 0.5496497\ttotal: 1.06s\tremaining: 217ms\n",
      "831:\tlearn: 0.5489865\ttotal: 1.07s\tremaining: 215ms\n",
      "832:\tlearn: 0.5486394\ttotal: 1.07s\tremaining: 214ms\n",
      "833:\tlearn: 0.5482120\ttotal: 1.07s\tremaining: 213ms\n",
      "834:\tlearn: 0.5477181\ttotal: 1.07s\tremaining: 211ms\n",
      "835:\tlearn: 0.5470817\ttotal: 1.07s\tremaining: 210ms\n",
      "836:\tlearn: 0.5468386\ttotal: 1.07s\tremaining: 209ms\n",
      "837:\tlearn: 0.5464975\ttotal: 1.07s\tremaining: 207ms\n",
      "838:\tlearn: 0.5461053\ttotal: 1.07s\tremaining: 206ms\n",
      "839:\tlearn: 0.5453653\ttotal: 1.07s\tremaining: 205ms\n",
      "840:\tlearn: 0.5452832\ttotal: 1.08s\tremaining: 204ms\n",
      "841:\tlearn: 0.5448724\ttotal: 1.08s\tremaining: 202ms\n",
      "842:\tlearn: 0.5446985\ttotal: 1.08s\tremaining: 201ms\n",
      "843:\tlearn: 0.5444007\ttotal: 1.08s\tremaining: 200ms\n",
      "844:\tlearn: 0.5440964\ttotal: 1.08s\tremaining: 198ms\n",
      "845:\tlearn: 0.5438080\ttotal: 1.08s\tremaining: 197ms\n",
      "846:\tlearn: 0.5433646\ttotal: 1.08s\tremaining: 196ms\n",
      "847:\tlearn: 0.5430105\ttotal: 1.08s\tremaining: 195ms\n",
      "848:\tlearn: 0.5427758\ttotal: 1.09s\tremaining: 193ms\n",
      "849:\tlearn: 0.5423681\ttotal: 1.09s\tremaining: 192ms\n",
      "850:\tlearn: 0.5421522\ttotal: 1.09s\tremaining: 191ms\n",
      "851:\tlearn: 0.5416532\ttotal: 1.09s\tremaining: 189ms\n",
      "852:\tlearn: 0.5410610\ttotal: 1.09s\tremaining: 188ms\n",
      "853:\tlearn: 0.5407768\ttotal: 1.09s\tremaining: 187ms\n",
      "854:\tlearn: 0.5402953\ttotal: 1.09s\tremaining: 185ms\n",
      "855:\tlearn: 0.5400210\ttotal: 1.09s\tremaining: 184ms\n",
      "856:\tlearn: 0.5394974\ttotal: 1.09s\tremaining: 183ms\n",
      "857:\tlearn: 0.5393090\ttotal: 1.1s\tremaining: 182ms\n",
      "858:\tlearn: 0.5388992\ttotal: 1.1s\tremaining: 180ms\n",
      "859:\tlearn: 0.5385327\ttotal: 1.1s\tremaining: 179ms\n",
      "860:\tlearn: 0.5380053\ttotal: 1.1s\tremaining: 178ms\n",
      "861:\tlearn: 0.5377561\ttotal: 1.1s\tremaining: 176ms\n",
      "862:\tlearn: 0.5374665\ttotal: 1.1s\tremaining: 175ms\n",
      "863:\tlearn: 0.5371037\ttotal: 1.1s\tremaining: 174ms\n",
      "864:\tlearn: 0.5370938\ttotal: 1.1s\tremaining: 172ms\n",
      "865:\tlearn: 0.5367395\ttotal: 1.1s\tremaining: 171ms\n",
      "866:\tlearn: 0.5361804\ttotal: 1.11s\tremaining: 170ms\n",
      "867:\tlearn: 0.5357798\ttotal: 1.11s\tremaining: 168ms\n",
      "868:\tlearn: 0.5355887\ttotal: 1.11s\tremaining: 167ms\n",
      "869:\tlearn: 0.5354448\ttotal: 1.11s\tremaining: 166ms\n",
      "870:\tlearn: 0.5350741\ttotal: 1.11s\tremaining: 165ms\n",
      "871:\tlearn: 0.5346994\ttotal: 1.11s\tremaining: 163ms\n",
      "872:\tlearn: 0.5343004\ttotal: 1.11s\tremaining: 162ms\n",
      "873:\tlearn: 0.5336867\ttotal: 1.11s\tremaining: 161ms\n",
      "874:\tlearn: 0.5333268\ttotal: 1.12s\tremaining: 159ms\n",
      "875:\tlearn: 0.5329666\ttotal: 1.12s\tremaining: 158ms\n",
      "876:\tlearn: 0.5325449\ttotal: 1.12s\tremaining: 157ms\n",
      "877:\tlearn: 0.5319909\ttotal: 1.12s\tremaining: 156ms\n",
      "878:\tlearn: 0.5317266\ttotal: 1.12s\tremaining: 154ms\n",
      "879:\tlearn: 0.5315030\ttotal: 1.12s\tremaining: 153ms\n",
      "880:\tlearn: 0.5311493\ttotal: 1.12s\tremaining: 152ms\n",
      "881:\tlearn: 0.5308453\ttotal: 1.12s\tremaining: 150ms\n",
      "882:\tlearn: 0.5306351\ttotal: 1.13s\tremaining: 149ms\n",
      "883:\tlearn: 0.5301824\ttotal: 1.13s\tremaining: 148ms\n",
      "884:\tlearn: 0.5300304\ttotal: 1.13s\tremaining: 146ms\n",
      "885:\tlearn: 0.5297945\ttotal: 1.13s\tremaining: 145ms\n",
      "886:\tlearn: 0.5293382\ttotal: 1.13s\tremaining: 144ms\n",
      "887:\tlearn: 0.5289806\ttotal: 1.13s\tremaining: 143ms\n",
      "888:\tlearn: 0.5286656\ttotal: 1.13s\tremaining: 141ms\n",
      "889:\tlearn: 0.5282077\ttotal: 1.13s\tremaining: 140ms\n",
      "890:\tlearn: 0.5279774\ttotal: 1.13s\tremaining: 139ms\n",
      "891:\tlearn: 0.5276597\ttotal: 1.14s\tremaining: 138ms\n",
      "892:\tlearn: 0.5273287\ttotal: 1.14s\tremaining: 136ms\n",
      "893:\tlearn: 0.5270664\ttotal: 1.14s\tremaining: 135ms\n",
      "894:\tlearn: 0.5265322\ttotal: 1.14s\tremaining: 134ms\n",
      "895:\tlearn: 0.5263792\ttotal: 1.14s\tremaining: 132ms\n",
      "896:\tlearn: 0.5261307\ttotal: 1.14s\tremaining: 131ms\n",
      "897:\tlearn: 0.5255969\ttotal: 1.14s\tremaining: 130ms\n",
      "898:\tlearn: 0.5252951\ttotal: 1.14s\tremaining: 128ms\n",
      "899:\tlearn: 0.5249113\ttotal: 1.14s\tremaining: 127ms\n",
      "900:\tlearn: 0.5247283\ttotal: 1.15s\tremaining: 126ms\n",
      "901:\tlearn: 0.5245182\ttotal: 1.15s\tremaining: 125ms\n",
      "902:\tlearn: 0.5241778\ttotal: 1.15s\tremaining: 123ms\n",
      "903:\tlearn: 0.5238897\ttotal: 1.15s\tremaining: 122ms\n",
      "904:\tlearn: 0.5236031\ttotal: 1.15s\tremaining: 121ms\n",
      "905:\tlearn: 0.5230818\ttotal: 1.15s\tremaining: 119ms\n",
      "906:\tlearn: 0.5227698\ttotal: 1.15s\tremaining: 118ms\n",
      "907:\tlearn: 0.5223343\ttotal: 1.15s\tremaining: 117ms\n",
      "908:\tlearn: 0.5222291\ttotal: 1.15s\tremaining: 116ms\n",
      "909:\tlearn: 0.5219020\ttotal: 1.16s\tremaining: 114ms\n",
      "910:\tlearn: 0.5215147\ttotal: 1.16s\tremaining: 113ms\n",
      "911:\tlearn: 0.5214321\ttotal: 1.16s\tremaining: 112ms\n",
      "912:\tlearn: 0.5210945\ttotal: 1.16s\tremaining: 111ms\n",
      "913:\tlearn: 0.5208936\ttotal: 1.16s\tremaining: 109ms\n",
      "914:\tlearn: 0.5204759\ttotal: 1.16s\tremaining: 108ms\n",
      "915:\tlearn: 0.5202748\ttotal: 1.16s\tremaining: 107ms\n",
      "916:\tlearn: 0.5199872\ttotal: 1.16s\tremaining: 105ms\n",
      "917:\tlearn: 0.5194973\ttotal: 1.17s\tremaining: 104ms\n",
      "918:\tlearn: 0.5191429\ttotal: 1.17s\tremaining: 103ms\n",
      "919:\tlearn: 0.5190245\ttotal: 1.17s\tremaining: 102ms\n",
      "920:\tlearn: 0.5189267\ttotal: 1.17s\tremaining: 100ms\n",
      "921:\tlearn: 0.5186513\ttotal: 1.17s\tremaining: 99ms\n",
      "922:\tlearn: 0.5183288\ttotal: 1.17s\tremaining: 97.7ms\n",
      "923:\tlearn: 0.5182639\ttotal: 1.17s\tremaining: 96.4ms\n",
      "924:\tlearn: 0.5178945\ttotal: 1.17s\tremaining: 95.1ms\n",
      "925:\tlearn: 0.5174401\ttotal: 1.17s\tremaining: 93.8ms\n",
      "926:\tlearn: 0.5171292\ttotal: 1.18s\tremaining: 92.5ms\n",
      "927:\tlearn: 0.5169292\ttotal: 1.18s\tremaining: 91.3ms\n",
      "928:\tlearn: 0.5167395\ttotal: 1.18s\tremaining: 90ms\n",
      "929:\tlearn: 0.5164632\ttotal: 1.18s\tremaining: 88.7ms\n",
      "930:\tlearn: 0.5163627\ttotal: 1.18s\tremaining: 87.4ms\n",
      "931:\tlearn: 0.5158219\ttotal: 1.18s\tremaining: 86.2ms\n",
      "932:\tlearn: 0.5157015\ttotal: 1.18s\tremaining: 84.9ms\n",
      "933:\tlearn: 0.5154699\ttotal: 1.18s\tremaining: 83.6ms\n",
      "934:\tlearn: 0.5153196\ttotal: 1.18s\tremaining: 82.3ms\n",
      "935:\tlearn: 0.5151305\ttotal: 1.19s\tremaining: 81.1ms\n",
      "936:\tlearn: 0.5145865\ttotal: 1.19s\tremaining: 79.8ms\n",
      "937:\tlearn: 0.5143631\ttotal: 1.19s\tremaining: 78.5ms\n",
      "938:\tlearn: 0.5140686\ttotal: 1.19s\tremaining: 77.2ms\n",
      "939:\tlearn: 0.5138569\ttotal: 1.19s\tremaining: 76ms\n",
      "940:\tlearn: 0.5134728\ttotal: 1.19s\tremaining: 74.7ms\n",
      "941:\tlearn: 0.5132220\ttotal: 1.19s\tremaining: 73.4ms\n",
      "942:\tlearn: 0.5131540\ttotal: 1.19s\tremaining: 72.1ms\n",
      "943:\tlearn: 0.5130231\ttotal: 1.19s\tremaining: 70.9ms\n",
      "944:\tlearn: 0.5127085\ttotal: 1.2s\tremaining: 69.6ms\n",
      "945:\tlearn: 0.5122543\ttotal: 1.2s\tremaining: 68.3ms\n",
      "946:\tlearn: 0.5117546\ttotal: 1.2s\tremaining: 67.1ms\n",
      "947:\tlearn: 0.5113911\ttotal: 1.2s\tremaining: 65.8ms\n",
      "948:\tlearn: 0.5109919\ttotal: 1.2s\tremaining: 64.5ms\n",
      "949:\tlearn: 0.5107197\ttotal: 1.2s\tremaining: 63.2ms\n",
      "950:\tlearn: 0.5103432\ttotal: 1.2s\tremaining: 62ms\n",
      "951:\tlearn: 0.5100920\ttotal: 1.21s\tremaining: 60.8ms\n",
      "952:\tlearn: 0.5097120\ttotal: 1.21s\tremaining: 59.6ms\n",
      "953:\tlearn: 0.5091784\ttotal: 1.21s\tremaining: 58.3ms\n",
      "954:\tlearn: 0.5088295\ttotal: 1.21s\tremaining: 57ms\n",
      "955:\tlearn: 0.5084740\ttotal: 1.21s\tremaining: 55.7ms\n",
      "956:\tlearn: 0.5082302\ttotal: 1.21s\tremaining: 54.5ms\n",
      "957:\tlearn: 0.5080472\ttotal: 1.21s\tremaining: 53.2ms\n",
      "958:\tlearn: 0.5077325\ttotal: 1.22s\tremaining: 51.9ms\n",
      "959:\tlearn: 0.5075155\ttotal: 1.22s\tremaining: 50.7ms\n",
      "960:\tlearn: 0.5070576\ttotal: 1.22s\tremaining: 49.4ms\n",
      "961:\tlearn: 0.5067594\ttotal: 1.22s\tremaining: 48.1ms\n",
      "962:\tlearn: 0.5064733\ttotal: 1.22s\tremaining: 46.9ms\n",
      "963:\tlearn: 0.5062865\ttotal: 1.22s\tremaining: 45.6ms\n",
      "964:\tlearn: 0.5060166\ttotal: 1.22s\tremaining: 44.3ms\n",
      "965:\tlearn: 0.5057554\ttotal: 1.22s\tremaining: 43.1ms\n",
      "966:\tlearn: 0.5054559\ttotal: 1.22s\tremaining: 41.8ms\n",
      "967:\tlearn: 0.5052889\ttotal: 1.23s\tremaining: 40.5ms\n",
      "968:\tlearn: 0.5049024\ttotal: 1.23s\tremaining: 39.3ms\n",
      "969:\tlearn: 0.5047015\ttotal: 1.23s\tremaining: 38ms\n",
      "970:\tlearn: 0.5043011\ttotal: 1.23s\tremaining: 36.7ms\n",
      "971:\tlearn: 0.5039473\ttotal: 1.23s\tremaining: 35.5ms\n",
      "972:\tlearn: 0.5035484\ttotal: 1.23s\tremaining: 34.2ms\n",
      "973:\tlearn: 0.5032225\ttotal: 1.23s\tremaining: 32.9ms\n",
      "974:\tlearn: 0.5026314\ttotal: 1.23s\tremaining: 31.6ms\n",
      "975:\tlearn: 0.5023897\ttotal: 1.24s\tremaining: 30.4ms\n",
      "976:\tlearn: 0.5021028\ttotal: 1.24s\tremaining: 29.1ms\n",
      "977:\tlearn: 0.5019360\ttotal: 1.24s\tremaining: 27.8ms\n",
      "978:\tlearn: 0.5017133\ttotal: 1.24s\tremaining: 26.6ms\n",
      "979:\tlearn: 0.5014539\ttotal: 1.24s\tremaining: 25.3ms\n",
      "980:\tlearn: 0.5010566\ttotal: 1.24s\tremaining: 24ms\n",
      "981:\tlearn: 0.5007433\ttotal: 1.24s\tremaining: 22.8ms\n",
      "982:\tlearn: 0.5004044\ttotal: 1.24s\tremaining: 21.5ms\n",
      "983:\tlearn: 0.5001453\ttotal: 1.24s\tremaining: 20.2ms\n",
      "984:\tlearn: 0.4999395\ttotal: 1.25s\tremaining: 19ms\n",
      "985:\tlearn: 0.4995720\ttotal: 1.25s\tremaining: 17.7ms\n",
      "986:\tlearn: 0.4991196\ttotal: 1.25s\tremaining: 16.4ms\n",
      "987:\tlearn: 0.4988699\ttotal: 1.25s\tremaining: 15.2ms\n",
      "988:\tlearn: 0.4985023\ttotal: 1.25s\tremaining: 13.9ms\n",
      "989:\tlearn: 0.4981511\ttotal: 1.25s\tremaining: 12.6ms\n",
      "990:\tlearn: 0.4978735\ttotal: 1.25s\tremaining: 11.4ms\n",
      "991:\tlearn: 0.4976242\ttotal: 1.25s\tremaining: 10.1ms\n",
      "992:\tlearn: 0.4973797\ttotal: 1.25s\tremaining: 8.84ms\n",
      "993:\tlearn: 0.4971271\ttotal: 1.25s\tremaining: 7.58ms\n",
      "994:\tlearn: 0.4971226\ttotal: 1.26s\tremaining: 6.32ms\n",
      "995:\tlearn: 0.4969407\ttotal: 1.26s\tremaining: 5.05ms\n",
      "996:\tlearn: 0.4969024\ttotal: 1.26s\tremaining: 3.79ms\n",
      "997:\tlearn: 0.4967111\ttotal: 1.26s\tremaining: 2.52ms\n",
      "998:\tlearn: 0.4965008\ttotal: 1.26s\tremaining: 1.26ms\n",
      "999:\tlearn: 0.4961628\ttotal: 1.26s\tremaining: 0us\n"
     ]
    },
    {
     "data": {
      "text/plain": [
       "<catboost.core.CatBoostRegressor at 0x13c20ba10>"
      ]
     },
     "execution_count": 54,
     "metadata": {},
     "output_type": "execute_result"
    }
   ],
   "source": [
    "cbr.fit(x_train,y_train)"
   ]
  },
  {
   "cell_type": "code",
   "execution_count": 55,
   "id": "2fd904bc-2e83-4219-9751-42b064a8466e",
   "metadata": {},
   "outputs": [],
   "source": [
    "cbr_prediction = cbr.predict(x_test)"
   ]
  },
  {
   "cell_type": "code",
   "execution_count": 56,
   "id": "7239edaf-a979-4fef-abd7-b8a4a5b5eb0d",
   "metadata": {},
   "outputs": [],
   "source": [
    "rmse_cbr =  mean_squared_error(y_test,cbr_prediction)"
   ]
  },
  {
   "cell_type": "code",
   "execution_count": 57,
   "id": "71240c93-2143-49ee-a749-8a28604bbddf",
   "metadata": {},
   "outputs": [
    {
     "data": {
      "text/plain": [
       "0.36412838644193024"
      ]
     },
     "execution_count": 57,
     "metadata": {},
     "output_type": "execute_result"
    }
   ],
   "source": [
    "# Mean Squared Error of CatBoost Regressor\n",
    "rmse_cbr"
   ]
  },
  {
   "cell_type": "code",
   "execution_count": 58,
   "id": "ef6383f7-c4a6-4286-9ecd-095a04dfea4e",
   "metadata": {},
   "outputs": [],
   "source": [
    "mae_cbr = mean_absolute_error(y_test,cbr_prediction)"
   ]
  },
  {
   "cell_type": "code",
   "execution_count": 59,
   "id": "840de6bc-df93-43fa-ba77-d4dfc81ae5c1",
   "metadata": {},
   "outputs": [
    {
     "data": {
      "text/plain": [
       "0.45089255208657175"
      ]
     },
     "execution_count": 59,
     "metadata": {},
     "output_type": "execute_result"
    }
   ],
   "source": [
    "mae_cbr"
   ]
  },
  {
   "cell_type": "markdown",
   "id": "6a11914b-1e51-4bb1-83f1-44b0b7610682",
   "metadata": {},
   "source": [
    "#### CatBoost Regressor is the Best Regressor Model on this Dataset. CatBoost has lowest Mean Squared Error and Mean Absolute Error Regressor compared to other regressing models. \"0.36412838644193024\" and \"0.45089255208657175\""
   ]
  }
 ],
 "metadata": {
  "kernelspec": {
   "display_name": "Python 3 (ipykernel)",
   "language": "python",
   "name": "python3"
  },
  "language_info": {
   "codemirror_mode": {
    "name": "ipython",
    "version": 3
   },
   "file_extension": ".py",
   "mimetype": "text/x-python",
   "name": "python",
   "nbconvert_exporter": "python",
   "pygments_lexer": "ipython3",
   "version": "3.11.7"
  }
 },
 "nbformat": 4,
 "nbformat_minor": 5
}
